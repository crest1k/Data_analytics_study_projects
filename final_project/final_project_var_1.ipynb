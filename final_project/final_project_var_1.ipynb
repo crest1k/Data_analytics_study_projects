{
 "cells": [
  {
   "cell_type": "markdown",
   "metadata": {},
   "source": [
    "## Финальный проект\n",
    "### **Вариант: 1**\n",
    "\n",
    "Описание:\n",
    "\n",
    "Представьте, что вы работаете в компании, которая разрабатывает мобильные игры. К вам пришел менеджер с рядом задач по исследованию нескольких аспектов мобильного приложения:\n",
    "\n",
    "1. В первую очередь, его интересует показатель retention. Напишите функцию для его подсчета.\n",
    "2. Помимо этого, в компании провели A/B тестирование наборов акционных предложений. На основе имеющихся данных определите, какой набор можно считать лучшим и на основе каких метрик стоит принять правильное решение.\n",
    "3. Предложите метрики для оценки результатов последнего прошедшего тематического события в игре."
   ]
  },
  {
   "cell_type": "markdown",
   "metadata": {},
   "source": [
    "Импортируем все необходимые библиотеки."
   ]
  },
  {
   "cell_type": "code",
   "execution_count": 1,
   "metadata": {},
   "outputs": [],
   "source": [
    "import pandas as pd\n",
    "import matplotlib.pyplot as plt\n",
    "import seaborn as sns\n",
    "import numpy as np\n",
    "from scipy import stats\n",
    "\n",
    "plt.style.use('ggplot')"
   ]
  },
  {
   "cell_type": "markdown",
   "metadata": {},
   "source": [
    "#### *Задание 1*\n",
    "Retention – один из самых важных показателей в компании. Ваша задача – написать функцию, которая будет считать retention игроков (по дням от даты регистрации игрока).\n",
    "Функция должна быть написана на python. В ходе решения можно тестировать работу функции как на полном датасете, так и на части (сэмпле) данных.\n"
   ]
  },
  {
   "cell_type": "code",
   "execution_count": 2,
   "metadata": {},
   "outputs": [],
   "source": [
    "# Считаем наши данные\n",
    "auth_df = pd.read_csv('problem1-auth_data.csv', sep=';')\n",
    "reg_df = pd.read_csv('problem1-reg_data.csv', sep=';')"
   ]
  },
  {
   "cell_type": "markdown",
   "metadata": {},
   "source": [
    "Предполагается, что предобработка данных уже была проведена"
   ]
  },
  {
   "cell_type": "markdown",
   "metadata": {},
   "source": [
    "---"
   ]
  },
  {
   "cell_type": "markdown",
   "metadata": {},
   "source": [
    "Первая функция `retention_rate_by_period` возвращает DataFrame с retention временного отрезка, если `styled=False` и стилизованную таблицу (объект styler), если `styled=True`"
   ]
  },
  {
   "cell_type": "code",
   "execution_count": 3,
   "metadata": {},
   "outputs": [],
   "source": [
    "def retention_rate_by_period(\n",
    "        reg_data, auth_data, start_date, end_date, styled=False):\n",
    "    '''\n",
    "    Функция рассчитвает retention rate для определенного периода по дням.\n",
    "    Аргументы функции:\n",
    "    reg_data - объект типа DataFrame с данными о регистрации пользователей\n",
    "    auth_data - объект типа DataFrame с данными о аутентификации пользователей\n",
    "    start_date - переменная типа str с начальной границей период\n",
    "    в виде YYYY-MM-DD\n",
    "    end_date - переменная типа str с конечной границей периода\n",
    "    в виде YYYY-MM-DD\n",
    "    styled - переменная типа bool, флаг стилизации таблицы (по умолчанию False)\n",
    "    Функция возвращает DataFrame с подсчитанным retention rate для каждой\n",
    "    когорты из указанного периода за каждый день\n",
    "    '''\n",
    "    if start_date > end_date:\n",
    "        return 'Некорректная дата'\n",
    "      \n",
    "    reg_data['reg_date'] = pd.to_datetime(\n",
    "        pd.to_datetime(reg_data.reg_ts, unit='s').dt.date)\n",
    "    auth_data['auth_date'] = pd.to_datetime(\n",
    "        pd.to_datetime(auth_data.auth_ts, unit='s').dt.date)\n",
    "    try:\n",
    "        full_data = auth_data \\\n",
    "            .merge(reg_data, how='left', on='uid') \\\n",
    "            .query(\n",
    "                '@start_date <= reg_date and auth_date <= @end_date'\n",
    "            )[['uid', 'auth_date', 'reg_date']]\n",
    "    except ValueError:\n",
    "        return 'Некорректная дата'\n",
    "\n",
    "    full_data['cohort'] = (full_data.auth_date - full_data.reg_date).dt.days\n",
    "\n",
    "    result_df = full_data \\\n",
    "        .groupby(['reg_date', 'cohort'], as_index=False) \\\n",
    "        .agg({'uid': 'nunique'})\n",
    "\n",
    "    result_df['registrations_per_date'] = result_df \\\n",
    "        .groupby('reg_date') \\\n",
    "        .uid \\\n",
    "        .transform(max)\n",
    "\n",
    "    result_df['retantion_rate'] = round(\n",
    "        result_df.uid / result_df.registrations_per_date,\n",
    "        3\n",
    "    )\n",
    "\n",
    "    result_df = result_df \\\n",
    "        .pivot(index='reg_date', columns='cohort', values='retantion_rate') \\\n",
    "        .merge(\n",
    "            result_df[\n",
    "                ['reg_date', 'registrations_per_date']\n",
    "            ].drop_duplicates(),\n",
    "            on='reg_date', how='left'\n",
    "        )\n",
    "\n",
    "    cols = list(result_df)\n",
    "    cols.insert(1, cols.pop(cols.index('registrations_per_date')))\n",
    "    result_df = result_df.reindex(columns=cols)\n",
    "    result_df['reg_date'] = result_df['reg_date'].dt.strftime(\"%Y-%m-%d\")\n",
    "    result_df.rename(columns={\n",
    "        'reg_date': 'Дата регистрации',\n",
    "        'registrations_per_date': 'Кол-во регистраций'\n",
    "    }, inplace=True)\n",
    "\n",
    "    if styled:\n",
    "        result_df = result_df \\\n",
    "            .style \\\n",
    "            .set_caption(\n",
    "                f'Дневной коэффициент удержания клиентов в период'\n",
    "                f' с {start_date} по {end_date}.'\n",
    "            ) \\\n",
    "            .format(\"{:.1%}\", na_rep=\"\", subset=result_df.columns.drop(\n",
    "                ['Дата регистрации', 'Кол-во регистраций'])) \\\n",
    "            .hide_index() \\\n",
    "            .background_gradient(cmap='Purples', subset=result_df.columns.drop(\n",
    "                ['Дата регистрации', 'Кол-во регистраций'])) \\\n",
    "            .highlight_null('grey')\n",
    "        return result_df\n",
    "\n",
    "    return result_df"
   ]
  },
  {
   "cell_type": "code",
   "execution_count": 4,
   "metadata": {},
   "outputs": [
    {
     "data": {
      "text/html": [
       "<style  type=\"text/css\" >\n",
       "#T_59d1679c_1e19_11ed_bdbb_96000040dfb6row0_col2,#T_59d1679c_1e19_11ed_bdbb_96000040dfb6row0_col7,#T_59d1679c_1e19_11ed_bdbb_96000040dfb6row0_col8,#T_59d1679c_1e19_11ed_bdbb_96000040dfb6row0_col15,#T_59d1679c_1e19_11ed_bdbb_96000040dfb6row0_col17,#T_59d1679c_1e19_11ed_bdbb_96000040dfb6row0_col18,#T_59d1679c_1e19_11ed_bdbb_96000040dfb6row1_col2,#T_59d1679c_1e19_11ed_bdbb_96000040dfb6row1_col6,#T_59d1679c_1e19_11ed_bdbb_96000040dfb6row1_col14,#T_59d1679c_1e19_11ed_bdbb_96000040dfb6row1_col16,#T_59d1679c_1e19_11ed_bdbb_96000040dfb6row2_col2,#T_59d1679c_1e19_11ed_bdbb_96000040dfb6row2_col13,#T_59d1679c_1e19_11ed_bdbb_96000040dfb6row3_col2,#T_59d1679c_1e19_11ed_bdbb_96000040dfb6row3_col12,#T_59d1679c_1e19_11ed_bdbb_96000040dfb6row4_col2,#T_59d1679c_1e19_11ed_bdbb_96000040dfb6row4_col11,#T_59d1679c_1e19_11ed_bdbb_96000040dfb6row5_col2,#T_59d1679c_1e19_11ed_bdbb_96000040dfb6row5_col10,#T_59d1679c_1e19_11ed_bdbb_96000040dfb6row6_col2,#T_59d1679c_1e19_11ed_bdbb_96000040dfb6row6_col9,#T_59d1679c_1e19_11ed_bdbb_96000040dfb6row7_col2,#T_59d1679c_1e19_11ed_bdbb_96000040dfb6row7_col4,#T_59d1679c_1e19_11ed_bdbb_96000040dfb6row8_col2,#T_59d1679c_1e19_11ed_bdbb_96000040dfb6row9_col2,#T_59d1679c_1e19_11ed_bdbb_96000040dfb6row9_col5,#T_59d1679c_1e19_11ed_bdbb_96000040dfb6row10_col2,#T_59d1679c_1e19_11ed_bdbb_96000040dfb6row11_col2,#T_59d1679c_1e19_11ed_bdbb_96000040dfb6row12_col2,#T_59d1679c_1e19_11ed_bdbb_96000040dfb6row13_col2,#T_59d1679c_1e19_11ed_bdbb_96000040dfb6row13_col3,#T_59d1679c_1e19_11ed_bdbb_96000040dfb6row14_col2,#T_59d1679c_1e19_11ed_bdbb_96000040dfb6row15_col2,#T_59d1679c_1e19_11ed_bdbb_96000040dfb6row16_col2{\n",
       "            background-color:  #fcfbfd;\n",
       "            color:  #000000;\n",
       "        }#T_59d1679c_1e19_11ed_bdbb_96000040dfb6row0_col3,#T_59d1679c_1e19_11ed_bdbb_96000040dfb6row4_col10{\n",
       "            background-color:  #603e9a;\n",
       "            color:  #f1f1f1;\n",
       "        }#T_59d1679c_1e19_11ed_bdbb_96000040dfb6row0_col4{\n",
       "            background-color:  #b9b9da;\n",
       "            color:  #000000;\n",
       "        }#T_59d1679c_1e19_11ed_bdbb_96000040dfb6row0_col5,#T_59d1679c_1e19_11ed_bdbb_96000040dfb6row1_col5,#T_59d1679c_1e19_11ed_bdbb_96000040dfb6row3_col5,#T_59d1679c_1e19_11ed_bdbb_96000040dfb6row8_col5{\n",
       "            background-color:  #afaed4;\n",
       "            color:  #000000;\n",
       "        }#T_59d1679c_1e19_11ed_bdbb_96000040dfb6row0_col6,#T_59d1679c_1e19_11ed_bdbb_96000040dfb6row2_col6{\n",
       "            background-color:  #64459e;\n",
       "            color:  #f1f1f1;\n",
       "        }#T_59d1679c_1e19_11ed_bdbb_96000040dfb6row0_col9{\n",
       "            background-color:  #6e58a7;\n",
       "            color:  #f1f1f1;\n",
       "        }#T_59d1679c_1e19_11ed_bdbb_96000040dfb6row0_col10{\n",
       "            background-color:  #a6a3cd;\n",
       "            color:  #000000;\n",
       "        }#T_59d1679c_1e19_11ed_bdbb_96000040dfb6row0_col11,#T_59d1679c_1e19_11ed_bdbb_96000040dfb6row1_col8{\n",
       "            background-color:  #babadb;\n",
       "            color:  #000000;\n",
       "        }#T_59d1679c_1e19_11ed_bdbb_96000040dfb6row0_col12{\n",
       "            background-color:  #e8e7f2;\n",
       "            color:  #000000;\n",
       "        }#T_59d1679c_1e19_11ed_bdbb_96000040dfb6row0_col13,#T_59d1679c_1e19_11ed_bdbb_96000040dfb6row11_col7{\n",
       "            background-color:  #e1e0ee;\n",
       "            color:  #000000;\n",
       "        }#T_59d1679c_1e19_11ed_bdbb_96000040dfb6row0_col14{\n",
       "            background-color:  #e2e1ef;\n",
       "            color:  #000000;\n",
       "        }#T_59d1679c_1e19_11ed_bdbb_96000040dfb6row0_col16{\n",
       "            background-color:  #7a71b4;\n",
       "            color:  #000000;\n",
       "        }#T_59d1679c_1e19_11ed_bdbb_96000040dfb6row1_col3,#T_59d1679c_1e19_11ed_bdbb_96000040dfb6row6_col11,#T_59d1679c_1e19_11ed_bdbb_96000040dfb6row8_col3{\n",
       "            background-color:  #ddddec;\n",
       "            color:  #000000;\n",
       "        }#T_59d1679c_1e19_11ed_bdbb_96000040dfb6row1_col4{\n",
       "            background-color:  #e4e3f0;\n",
       "            color:  #000000;\n",
       "        }#T_59d1679c_1e19_11ed_bdbb_96000040dfb6row1_col7{\n",
       "            background-color:  #8582bc;\n",
       "            color:  #000000;\n",
       "        }#T_59d1679c_1e19_11ed_bdbb_96000040dfb6row1_col9,#T_59d1679c_1e19_11ed_bdbb_96000040dfb6row1_col17,#T_59d1679c_1e19_11ed_bdbb_96000040dfb6row2_col9,#T_59d1679c_1e19_11ed_bdbb_96000040dfb6row2_col10,#T_59d1679c_1e19_11ed_bdbb_96000040dfb6row2_col12,#T_59d1679c_1e19_11ed_bdbb_96000040dfb6row2_col15,#T_59d1679c_1e19_11ed_bdbb_96000040dfb6row2_col16,#T_59d1679c_1e19_11ed_bdbb_96000040dfb6row3_col8,#T_59d1679c_1e19_11ed_bdbb_96000040dfb6row3_col11,#T_59d1679c_1e19_11ed_bdbb_96000040dfb6row3_col13,#T_59d1679c_1e19_11ed_bdbb_96000040dfb6row4_col5,#T_59d1679c_1e19_11ed_bdbb_96000040dfb6row4_col14,#T_59d1679c_1e19_11ed_bdbb_96000040dfb6row5_col7,#T_59d1679c_1e19_11ed_bdbb_96000040dfb6row9_col6,#T_59d1679c_1e19_11ed_bdbb_96000040dfb6row11_col3,#T_59d1679c_1e19_11ed_bdbb_96000040dfb6row12_col4{\n",
       "            background-color:  #3f007d;\n",
       "            color:  #f1f1f1;\n",
       "        }#T_59d1679c_1e19_11ed_bdbb_96000040dfb6row1_col10{\n",
       "            background-color:  #dcdcec;\n",
       "            color:  #000000;\n",
       "        }#T_59d1679c_1e19_11ed_bdbb_96000040dfb6row1_col11,#T_59d1679c_1e19_11ed_bdbb_96000040dfb6row4_col8{\n",
       "            background-color:  #593093;\n",
       "            color:  #f1f1f1;\n",
       "        }#T_59d1679c_1e19_11ed_bdbb_96000040dfb6row1_col12{\n",
       "            background-color:  #9e9ac8;\n",
       "            color:  #000000;\n",
       "        }#T_59d1679c_1e19_11ed_bdbb_96000040dfb6row1_col13{\n",
       "            background-color:  #7567af;\n",
       "            color:  #000000;\n",
       "        }#T_59d1679c_1e19_11ed_bdbb_96000040dfb6row1_col15{\n",
       "            background-color:  #7262ac;\n",
       "            color:  #000000;\n",
       "        }#T_59d1679c_1e19_11ed_bdbb_96000040dfb6row1_col18,#T_59d1679c_1e19_11ed_bdbb_96000040dfb6row2_col18,#T_59d1679c_1e19_11ed_bdbb_96000040dfb6row3_col18,#T_59d1679c_1e19_11ed_bdbb_96000040dfb6row4_col18,#T_59d1679c_1e19_11ed_bdbb_96000040dfb6row5_col18,#T_59d1679c_1e19_11ed_bdbb_96000040dfb6row6_col18,#T_59d1679c_1e19_11ed_bdbb_96000040dfb6row7_col18,#T_59d1679c_1e19_11ed_bdbb_96000040dfb6row8_col18,#T_59d1679c_1e19_11ed_bdbb_96000040dfb6row9_col18,#T_59d1679c_1e19_11ed_bdbb_96000040dfb6row10_col18,#T_59d1679c_1e19_11ed_bdbb_96000040dfb6row11_col18,#T_59d1679c_1e19_11ed_bdbb_96000040dfb6row12_col18,#T_59d1679c_1e19_11ed_bdbb_96000040dfb6row13_col18,#T_59d1679c_1e19_11ed_bdbb_96000040dfb6row14_col18,#T_59d1679c_1e19_11ed_bdbb_96000040dfb6row15_col18,#T_59d1679c_1e19_11ed_bdbb_96000040dfb6row16_col18{\n",
       "            background-color:  #fcfbfd;\n",
       "            color:  #000000;\n",
       "            background-color:  grey;\n",
       "        }#T_59d1679c_1e19_11ed_bdbb_96000040dfb6row2_col3,#T_59d1679c_1e19_11ed_bdbb_96000040dfb6row3_col3{\n",
       "            background-color:  #8c88bf;\n",
       "            color:  #000000;\n",
       "        }#T_59d1679c_1e19_11ed_bdbb_96000040dfb6row2_col4,#T_59d1679c_1e19_11ed_bdbb_96000040dfb6row11_col4,#T_59d1679c_1e19_11ed_bdbb_96000040dfb6row11_col6{\n",
       "            background-color:  #5a3395;\n",
       "            color:  #f1f1f1;\n",
       "        }#T_59d1679c_1e19_11ed_bdbb_96000040dfb6row2_col5{\n",
       "            background-color:  #8d89c0;\n",
       "            color:  #000000;\n",
       "        }#T_59d1679c_1e19_11ed_bdbb_96000040dfb6row2_col7{\n",
       "            background-color:  #674ca1;\n",
       "            color:  #f1f1f1;\n",
       "        }#T_59d1679c_1e19_11ed_bdbb_96000040dfb6row2_col8{\n",
       "            background-color:  #a7a4ce;\n",
       "            color:  #000000;\n",
       "        }#T_59d1679c_1e19_11ed_bdbb_96000040dfb6row2_col11,#T_59d1679c_1e19_11ed_bdbb_96000040dfb6row5_col11,#T_59d1679c_1e19_11ed_bdbb_96000040dfb6row7_col3,#T_59d1679c_1e19_11ed_bdbb_96000040dfb6row7_col11{\n",
       "            background-color:  #9591c4;\n",
       "            color:  #000000;\n",
       "        }#T_59d1679c_1e19_11ed_bdbb_96000040dfb6row2_col14,#T_59d1679c_1e19_11ed_bdbb_96000040dfb6row3_col14{\n",
       "            background-color:  #7566ae;\n",
       "            color:  #000000;\n",
       "        }#T_59d1679c_1e19_11ed_bdbb_96000040dfb6row2_col17,#T_59d1679c_1e19_11ed_bdbb_96000040dfb6row3_col16,#T_59d1679c_1e19_11ed_bdbb_96000040dfb6row3_col17,#T_59d1679c_1e19_11ed_bdbb_96000040dfb6row4_col15,#T_59d1679c_1e19_11ed_bdbb_96000040dfb6row4_col16,#T_59d1679c_1e19_11ed_bdbb_96000040dfb6row4_col17,#T_59d1679c_1e19_11ed_bdbb_96000040dfb6row5_col14,#T_59d1679c_1e19_11ed_bdbb_96000040dfb6row5_col15,#T_59d1679c_1e19_11ed_bdbb_96000040dfb6row5_col16,#T_59d1679c_1e19_11ed_bdbb_96000040dfb6row5_col17,#T_59d1679c_1e19_11ed_bdbb_96000040dfb6row6_col13,#T_59d1679c_1e19_11ed_bdbb_96000040dfb6row6_col14,#T_59d1679c_1e19_11ed_bdbb_96000040dfb6row6_col15,#T_59d1679c_1e19_11ed_bdbb_96000040dfb6row6_col16,#T_59d1679c_1e19_11ed_bdbb_96000040dfb6row6_col17,#T_59d1679c_1e19_11ed_bdbb_96000040dfb6row7_col12,#T_59d1679c_1e19_11ed_bdbb_96000040dfb6row7_col13,#T_59d1679c_1e19_11ed_bdbb_96000040dfb6row7_col14,#T_59d1679c_1e19_11ed_bdbb_96000040dfb6row7_col15,#T_59d1679c_1e19_11ed_bdbb_96000040dfb6row7_col16,#T_59d1679c_1e19_11ed_bdbb_96000040dfb6row7_col17,#T_59d1679c_1e19_11ed_bdbb_96000040dfb6row8_col11,#T_59d1679c_1e19_11ed_bdbb_96000040dfb6row8_col12,#T_59d1679c_1e19_11ed_bdbb_96000040dfb6row8_col13,#T_59d1679c_1e19_11ed_bdbb_96000040dfb6row8_col14,#T_59d1679c_1e19_11ed_bdbb_96000040dfb6row8_col15,#T_59d1679c_1e19_11ed_bdbb_96000040dfb6row8_col16,#T_59d1679c_1e19_11ed_bdbb_96000040dfb6row8_col17,#T_59d1679c_1e19_11ed_bdbb_96000040dfb6row9_col10,#T_59d1679c_1e19_11ed_bdbb_96000040dfb6row9_col11,#T_59d1679c_1e19_11ed_bdbb_96000040dfb6row9_col12,#T_59d1679c_1e19_11ed_bdbb_96000040dfb6row9_col13,#T_59d1679c_1e19_11ed_bdbb_96000040dfb6row9_col14,#T_59d1679c_1e19_11ed_bdbb_96000040dfb6row9_col15,#T_59d1679c_1e19_11ed_bdbb_96000040dfb6row9_col16,#T_59d1679c_1e19_11ed_bdbb_96000040dfb6row9_col17,#T_59d1679c_1e19_11ed_bdbb_96000040dfb6row10_col9,#T_59d1679c_1e19_11ed_bdbb_96000040dfb6row10_col10,#T_59d1679c_1e19_11ed_bdbb_96000040dfb6row10_col11,#T_59d1679c_1e19_11ed_bdbb_96000040dfb6row10_col12,#T_59d1679c_1e19_11ed_bdbb_96000040dfb6row10_col13,#T_59d1679c_1e19_11ed_bdbb_96000040dfb6row10_col14,#T_59d1679c_1e19_11ed_bdbb_96000040dfb6row10_col15,#T_59d1679c_1e19_11ed_bdbb_96000040dfb6row10_col16,#T_59d1679c_1e19_11ed_bdbb_96000040dfb6row10_col17,#T_59d1679c_1e19_11ed_bdbb_96000040dfb6row11_col8,#T_59d1679c_1e19_11ed_bdbb_96000040dfb6row11_col9,#T_59d1679c_1e19_11ed_bdbb_96000040dfb6row11_col10,#T_59d1679c_1e19_11ed_bdbb_96000040dfb6row11_col11,#T_59d1679c_1e19_11ed_bdbb_96000040dfb6row11_col12,#T_59d1679c_1e19_11ed_bdbb_96000040dfb6row11_col13,#T_59d1679c_1e19_11ed_bdbb_96000040dfb6row11_col14,#T_59d1679c_1e19_11ed_bdbb_96000040dfb6row11_col15,#T_59d1679c_1e19_11ed_bdbb_96000040dfb6row11_col16,#T_59d1679c_1e19_11ed_bdbb_96000040dfb6row11_col17,#T_59d1679c_1e19_11ed_bdbb_96000040dfb6row12_col7,#T_59d1679c_1e19_11ed_bdbb_96000040dfb6row12_col8,#T_59d1679c_1e19_11ed_bdbb_96000040dfb6row12_col9,#T_59d1679c_1e19_11ed_bdbb_96000040dfb6row12_col10,#T_59d1679c_1e19_11ed_bdbb_96000040dfb6row12_col11,#T_59d1679c_1e19_11ed_bdbb_96000040dfb6row12_col12,#T_59d1679c_1e19_11ed_bdbb_96000040dfb6row12_col13,#T_59d1679c_1e19_11ed_bdbb_96000040dfb6row12_col14,#T_59d1679c_1e19_11ed_bdbb_96000040dfb6row12_col15,#T_59d1679c_1e19_11ed_bdbb_96000040dfb6row12_col16,#T_59d1679c_1e19_11ed_bdbb_96000040dfb6row12_col17,#T_59d1679c_1e19_11ed_bdbb_96000040dfb6row13_col6,#T_59d1679c_1e19_11ed_bdbb_96000040dfb6row13_col7,#T_59d1679c_1e19_11ed_bdbb_96000040dfb6row13_col8,#T_59d1679c_1e19_11ed_bdbb_96000040dfb6row13_col9,#T_59d1679c_1e19_11ed_bdbb_96000040dfb6row13_col10,#T_59d1679c_1e19_11ed_bdbb_96000040dfb6row13_col11,#T_59d1679c_1e19_11ed_bdbb_96000040dfb6row13_col12,#T_59d1679c_1e19_11ed_bdbb_96000040dfb6row13_col13,#T_59d1679c_1e19_11ed_bdbb_96000040dfb6row13_col14,#T_59d1679c_1e19_11ed_bdbb_96000040dfb6row13_col15,#T_59d1679c_1e19_11ed_bdbb_96000040dfb6row13_col16,#T_59d1679c_1e19_11ed_bdbb_96000040dfb6row13_col17,#T_59d1679c_1e19_11ed_bdbb_96000040dfb6row14_col5,#T_59d1679c_1e19_11ed_bdbb_96000040dfb6row14_col6,#T_59d1679c_1e19_11ed_bdbb_96000040dfb6row14_col7,#T_59d1679c_1e19_11ed_bdbb_96000040dfb6row14_col8,#T_59d1679c_1e19_11ed_bdbb_96000040dfb6row14_col9,#T_59d1679c_1e19_11ed_bdbb_96000040dfb6row14_col10,#T_59d1679c_1e19_11ed_bdbb_96000040dfb6row14_col11,#T_59d1679c_1e19_11ed_bdbb_96000040dfb6row14_col12,#T_59d1679c_1e19_11ed_bdbb_96000040dfb6row14_col13,#T_59d1679c_1e19_11ed_bdbb_96000040dfb6row14_col14,#T_59d1679c_1e19_11ed_bdbb_96000040dfb6row14_col15,#T_59d1679c_1e19_11ed_bdbb_96000040dfb6row14_col16,#T_59d1679c_1e19_11ed_bdbb_96000040dfb6row14_col17,#T_59d1679c_1e19_11ed_bdbb_96000040dfb6row15_col4,#T_59d1679c_1e19_11ed_bdbb_96000040dfb6row15_col5,#T_59d1679c_1e19_11ed_bdbb_96000040dfb6row15_col6,#T_59d1679c_1e19_11ed_bdbb_96000040dfb6row15_col7,#T_59d1679c_1e19_11ed_bdbb_96000040dfb6row15_col8,#T_59d1679c_1e19_11ed_bdbb_96000040dfb6row15_col9,#T_59d1679c_1e19_11ed_bdbb_96000040dfb6row15_col10,#T_59d1679c_1e19_11ed_bdbb_96000040dfb6row15_col11,#T_59d1679c_1e19_11ed_bdbb_96000040dfb6row15_col12,#T_59d1679c_1e19_11ed_bdbb_96000040dfb6row15_col13,#T_59d1679c_1e19_11ed_bdbb_96000040dfb6row15_col14,#T_59d1679c_1e19_11ed_bdbb_96000040dfb6row15_col15,#T_59d1679c_1e19_11ed_bdbb_96000040dfb6row15_col16,#T_59d1679c_1e19_11ed_bdbb_96000040dfb6row15_col17,#T_59d1679c_1e19_11ed_bdbb_96000040dfb6row16_col3,#T_59d1679c_1e19_11ed_bdbb_96000040dfb6row16_col4,#T_59d1679c_1e19_11ed_bdbb_96000040dfb6row16_col5,#T_59d1679c_1e19_11ed_bdbb_96000040dfb6row16_col6,#T_59d1679c_1e19_11ed_bdbb_96000040dfb6row16_col7,#T_59d1679c_1e19_11ed_bdbb_96000040dfb6row16_col8,#T_59d1679c_1e19_11ed_bdbb_96000040dfb6row16_col9,#T_59d1679c_1e19_11ed_bdbb_96000040dfb6row16_col10,#T_59d1679c_1e19_11ed_bdbb_96000040dfb6row16_col11,#T_59d1679c_1e19_11ed_bdbb_96000040dfb6row16_col12,#T_59d1679c_1e19_11ed_bdbb_96000040dfb6row16_col13,#T_59d1679c_1e19_11ed_bdbb_96000040dfb6row16_col14,#T_59d1679c_1e19_11ed_bdbb_96000040dfb6row16_col15,#T_59d1679c_1e19_11ed_bdbb_96000040dfb6row16_col16,#T_59d1679c_1e19_11ed_bdbb_96000040dfb6row16_col17{\n",
       "            background-color:  #000000;\n",
       "            color:  #f1f1f1;\n",
       "            background-color:  grey;\n",
       "        }#T_59d1679c_1e19_11ed_bdbb_96000040dfb6row3_col4,#T_59d1679c_1e19_11ed_bdbb_96000040dfb6row5_col4,#T_59d1679c_1e19_11ed_bdbb_96000040dfb6row9_col4{\n",
       "            background-color:  #6c54a5;\n",
       "            color:  #f1f1f1;\n",
       "        }#T_59d1679c_1e19_11ed_bdbb_96000040dfb6row3_col6{\n",
       "            background-color:  #807dba;\n",
       "            color:  #000000;\n",
       "        }#T_59d1679c_1e19_11ed_bdbb_96000040dfb6row3_col7{\n",
       "            background-color:  #9894c5;\n",
       "            color:  #000000;\n",
       "        }#T_59d1679c_1e19_11ed_bdbb_96000040dfb6row3_col9{\n",
       "            background-color:  #bebfdd;\n",
       "            color:  #000000;\n",
       "        }#T_59d1679c_1e19_11ed_bdbb_96000040dfb6row3_col10{\n",
       "            background-color:  #f7f6fa;\n",
       "            color:  #000000;\n",
       "        }#T_59d1679c_1e19_11ed_bdbb_96000040dfb6row3_col15,#T_59d1679c_1e19_11ed_bdbb_96000040dfb6row5_col12{\n",
       "            background-color:  #dadaeb;\n",
       "            color:  #000000;\n",
       "        }#T_59d1679c_1e19_11ed_bdbb_96000040dfb6row4_col3,#T_59d1679c_1e19_11ed_bdbb_96000040dfb6row5_col3{\n",
       "            background-color:  #c3c4e0;\n",
       "            color:  #000000;\n",
       "        }#T_59d1679c_1e19_11ed_bdbb_96000040dfb6row4_col4{\n",
       "            background-color:  #d8d8ea;\n",
       "            color:  #000000;\n",
       "        }#T_59d1679c_1e19_11ed_bdbb_96000040dfb6row4_col6{\n",
       "            background-color:  #eeecf4;\n",
       "            color:  #000000;\n",
       "        }#T_59d1679c_1e19_11ed_bdbb_96000040dfb6row4_col7,#T_59d1679c_1e19_11ed_bdbb_96000040dfb6row4_col13,#T_59d1679c_1e19_11ed_bdbb_96000040dfb6row5_col13{\n",
       "            background-color:  #bebedd;\n",
       "            color:  #000000;\n",
       "        }#T_59d1679c_1e19_11ed_bdbb_96000040dfb6row4_col9{\n",
       "            background-color:  #4e1c8a;\n",
       "            color:  #f1f1f1;\n",
       "        }#T_59d1679c_1e19_11ed_bdbb_96000040dfb6row4_col12{\n",
       "            background-color:  #807cba;\n",
       "            color:  #000000;\n",
       "        }#T_59d1679c_1e19_11ed_bdbb_96000040dfb6row5_col5,#T_59d1679c_1e19_11ed_bdbb_96000040dfb6row7_col8,#T_59d1679c_1e19_11ed_bdbb_96000040dfb6row10_col5{\n",
       "            background-color:  #c0c1de;\n",
       "            color:  #000000;\n",
       "        }#T_59d1679c_1e19_11ed_bdbb_96000040dfb6row5_col6,#T_59d1679c_1e19_11ed_bdbb_96000040dfb6row6_col6,#T_59d1679c_1e19_11ed_bdbb_96000040dfb6row7_col6,#T_59d1679c_1e19_11ed_bdbb_96000040dfb6row8_col6{\n",
       "            background-color:  #cecfe5;\n",
       "            color:  #000000;\n",
       "        }#T_59d1679c_1e19_11ed_bdbb_96000040dfb6row5_col8{\n",
       "            background-color:  #eae9f3;\n",
       "            color:  #000000;\n",
       "        }#T_59d1679c_1e19_11ed_bdbb_96000040dfb6row5_col9{\n",
       "            background-color:  #7e79b8;\n",
       "            color:  #000000;\n",
       "        }#T_59d1679c_1e19_11ed_bdbb_96000040dfb6row6_col3{\n",
       "            background-color:  #7465ad;\n",
       "            color:  #000000;\n",
       "        }#T_59d1679c_1e19_11ed_bdbb_96000040dfb6row6_col4{\n",
       "            background-color:  #f2f0f7;\n",
       "            color:  #000000;\n",
       "        }#T_59d1679c_1e19_11ed_bdbb_96000040dfb6row6_col5{\n",
       "            background-color:  #705eaa;\n",
       "            color:  #f1f1f1;\n",
       "        }#T_59d1679c_1e19_11ed_bdbb_96000040dfb6row6_col7{\n",
       "            background-color:  #aba9d0;\n",
       "            color:  #000000;\n",
       "        }#T_59d1679c_1e19_11ed_bdbb_96000040dfb6row6_col8{\n",
       "            background-color:  #827fbb;\n",
       "            color:  #000000;\n",
       "        }#T_59d1679c_1e19_11ed_bdbb_96000040dfb6row6_col10,#T_59d1679c_1e19_11ed_bdbb_96000040dfb6row8_col7{\n",
       "            background-color:  #eeecf5;\n",
       "            color:  #000000;\n",
       "        }#T_59d1679c_1e19_11ed_bdbb_96000040dfb6row6_col12{\n",
       "            background-color:  #bcbddc;\n",
       "            color:  #000000;\n",
       "        }#T_59d1679c_1e19_11ed_bdbb_96000040dfb6row7_col5{\n",
       "            background-color:  #63449d;\n",
       "            color:  #f1f1f1;\n",
       "        }#T_59d1679c_1e19_11ed_bdbb_96000040dfb6row7_col7,#T_59d1679c_1e19_11ed_bdbb_96000040dfb6row9_col8{\n",
       "            background-color:  #50208c;\n",
       "            color:  #f1f1f1;\n",
       "        }#T_59d1679c_1e19_11ed_bdbb_96000040dfb6row7_col9{\n",
       "            background-color:  #a9a7cf;\n",
       "            color:  #000000;\n",
       "        }#T_59d1679c_1e19_11ed_bdbb_96000040dfb6row7_col10{\n",
       "            background-color:  #f4f2f8;\n",
       "            color:  #000000;\n",
       "        }#T_59d1679c_1e19_11ed_bdbb_96000040dfb6row8_col4{\n",
       "            background-color:  #c1c2df;\n",
       "            color:  #000000;\n",
       "        }#T_59d1679c_1e19_11ed_bdbb_96000040dfb6row8_col8{\n",
       "            background-color:  #8986be;\n",
       "            color:  #000000;\n",
       "        }#T_59d1679c_1e19_11ed_bdbb_96000040dfb6row8_col9{\n",
       "            background-color:  #9390c3;\n",
       "            color:  #000000;\n",
       "        }#T_59d1679c_1e19_11ed_bdbb_96000040dfb6row8_col10{\n",
       "            background-color:  #d4d4e8;\n",
       "            color:  #000000;\n",
       "        }#T_59d1679c_1e19_11ed_bdbb_96000040dfb6row9_col3,#T_59d1679c_1e19_11ed_bdbb_96000040dfb6row12_col3{\n",
       "            background-color:  #7b72b4;\n",
       "            color:  #000000;\n",
       "        }#T_59d1679c_1e19_11ed_bdbb_96000040dfb6row9_col7{\n",
       "            background-color:  #430780;\n",
       "            color:  #f1f1f1;\n",
       "        }#T_59d1679c_1e19_11ed_bdbb_96000040dfb6row9_col9{\n",
       "            background-color:  #f3f1f7;\n",
       "            color:  #000000;\n",
       "        }#T_59d1679c_1e19_11ed_bdbb_96000040dfb6row10_col3,#T_59d1679c_1e19_11ed_bdbb_96000040dfb6row15_col3{\n",
       "            background-color:  #b0afd4;\n",
       "            color:  #000000;\n",
       "        }#T_59d1679c_1e19_11ed_bdbb_96000040dfb6row10_col4{\n",
       "            background-color:  #e9e8f2;\n",
       "            color:  #000000;\n",
       "        }#T_59d1679c_1e19_11ed_bdbb_96000040dfb6row10_col6{\n",
       "            background-color:  #694fa2;\n",
       "            color:  #f1f1f1;\n",
       "        }#T_59d1679c_1e19_11ed_bdbb_96000040dfb6row10_col7{\n",
       "            background-color:  #b1b1d5;\n",
       "            color:  #000000;\n",
       "        }#T_59d1679c_1e19_11ed_bdbb_96000040dfb6row10_col8{\n",
       "            background-color:  #6b53a4;\n",
       "            color:  #f1f1f1;\n",
       "        }#T_59d1679c_1e19_11ed_bdbb_96000040dfb6row11_col5{\n",
       "            background-color:  #7d77b7;\n",
       "            color:  #000000;\n",
       "        }#T_59d1679c_1e19_11ed_bdbb_96000040dfb6row12_col5{\n",
       "            background-color:  #4f1d8b;\n",
       "            color:  #f1f1f1;\n",
       "        }#T_59d1679c_1e19_11ed_bdbb_96000040dfb6row12_col6{\n",
       "            background-color:  #a8a6cf;\n",
       "            color:  #000000;\n",
       "        }#T_59d1679c_1e19_11ed_bdbb_96000040dfb6row13_col4{\n",
       "            background-color:  #7c75b6;\n",
       "            color:  #000000;\n",
       "        }#T_59d1679c_1e19_11ed_bdbb_96000040dfb6row13_col5{\n",
       "            background-color:  #a4a1cc;\n",
       "            color:  #000000;\n",
       "        }#T_59d1679c_1e19_11ed_bdbb_96000040dfb6row14_col3{\n",
       "            background-color:  #f0eef6;\n",
       "            color:  #000000;\n",
       "        }#T_59d1679c_1e19_11ed_bdbb_96000040dfb6row14_col4{\n",
       "            background-color:  #928fc3;\n",
       "            color:  #000000;\n",
       "        }</style><table id=\"T_59d1679c_1e19_11ed_bdbb_96000040dfb6\" ><caption>Дневной коэффициент удержания клиентов в период с 2018-02-01 по 2018-02-17.</caption><thead>    <tr>        <th class=\"col_heading level0 col0\" >Дата регистрации</th>        <th class=\"col_heading level0 col1\" >Кол-во регистраций</th>        <th class=\"col_heading level0 col2\" >0</th>        <th class=\"col_heading level0 col3\" >1</th>        <th class=\"col_heading level0 col4\" >2</th>        <th class=\"col_heading level0 col5\" >3</th>        <th class=\"col_heading level0 col6\" >4</th>        <th class=\"col_heading level0 col7\" >5</th>        <th class=\"col_heading level0 col8\" >6</th>        <th class=\"col_heading level0 col9\" >7</th>        <th class=\"col_heading level0 col10\" >8</th>        <th class=\"col_heading level0 col11\" >9</th>        <th class=\"col_heading level0 col12\" >10</th>        <th class=\"col_heading level0 col13\" >11</th>        <th class=\"col_heading level0 col14\" >12</th>        <th class=\"col_heading level0 col15\" >13</th>        <th class=\"col_heading level0 col16\" >14</th>        <th class=\"col_heading level0 col17\" >15</th>        <th class=\"col_heading level0 col18\" >16</th>    </tr></thead><tbody>\n",
       "                <tr>\n",
       "                                <td id=\"T_59d1679c_1e19_11ed_bdbb_96000040dfb6row0_col0\" class=\"data row0 col0\" >2018-02-01</td>\n",
       "                        <td id=\"T_59d1679c_1e19_11ed_bdbb_96000040dfb6row0_col1\" class=\"data row0 col1\" >337</td>\n",
       "                        <td id=\"T_59d1679c_1e19_11ed_bdbb_96000040dfb6row0_col2\" class=\"data row0 col2\" >100.0%</td>\n",
       "                        <td id=\"T_59d1679c_1e19_11ed_bdbb_96000040dfb6row0_col3\" class=\"data row0 col3\" >3.0%</td>\n",
       "                        <td id=\"T_59d1679c_1e19_11ed_bdbb_96000040dfb6row0_col4\" class=\"data row0 col4\" >3.3%</td>\n",
       "                        <td id=\"T_59d1679c_1e19_11ed_bdbb_96000040dfb6row0_col5\" class=\"data row0 col5\" >4.7%</td>\n",
       "                        <td id=\"T_59d1679c_1e19_11ed_bdbb_96000040dfb6row0_col6\" class=\"data row0 col6\" >6.2%</td>\n",
       "                        <td id=\"T_59d1679c_1e19_11ed_bdbb_96000040dfb6row0_col7\" class=\"data row0 col7\" >4.2%</td>\n",
       "                        <td id=\"T_59d1679c_1e19_11ed_bdbb_96000040dfb6row0_col8\" class=\"data row0 col8\" >5.3%</td>\n",
       "                        <td id=\"T_59d1679c_1e19_11ed_bdbb_96000040dfb6row0_col9\" class=\"data row0 col9\" >6.8%</td>\n",
       "                        <td id=\"T_59d1679c_1e19_11ed_bdbb_96000040dfb6row0_col10\" class=\"data row0 col10\" >5.3%</td>\n",
       "                        <td id=\"T_59d1679c_1e19_11ed_bdbb_96000040dfb6row0_col11\" class=\"data row0 col11\" >4.7%</td>\n",
       "                        <td id=\"T_59d1679c_1e19_11ed_bdbb_96000040dfb6row0_col12\" class=\"data row0 col12\" >4.2%</td>\n",
       "                        <td id=\"T_59d1679c_1e19_11ed_bdbb_96000040dfb6row0_col13\" class=\"data row0 col13\" >4.7%</td>\n",
       "                        <td id=\"T_59d1679c_1e19_11ed_bdbb_96000040dfb6row0_col14\" class=\"data row0 col14\" >4.5%</td>\n",
       "                        <td id=\"T_59d1679c_1e19_11ed_bdbb_96000040dfb6row0_col15\" class=\"data row0 col15\" >3.3%</td>\n",
       "                        <td id=\"T_59d1679c_1e19_11ed_bdbb_96000040dfb6row0_col16\" class=\"data row0 col16\" >4.7%</td>\n",
       "                        <td id=\"T_59d1679c_1e19_11ed_bdbb_96000040dfb6row0_col17\" class=\"data row0 col17\" >3.9%</td>\n",
       "                        <td id=\"T_59d1679c_1e19_11ed_bdbb_96000040dfb6row0_col18\" class=\"data row0 col18\" >3.9%</td>\n",
       "            </tr>\n",
       "            <tr>\n",
       "                                <td id=\"T_59d1679c_1e19_11ed_bdbb_96000040dfb6row1_col0\" class=\"data row1 col0\" >2018-02-02</td>\n",
       "                        <td id=\"T_59d1679c_1e19_11ed_bdbb_96000040dfb6row1_col1\" class=\"data row1 col1\" >337</td>\n",
       "                        <td id=\"T_59d1679c_1e19_11ed_bdbb_96000040dfb6row1_col2\" class=\"data row1 col2\" >100.0%</td>\n",
       "                        <td id=\"T_59d1679c_1e19_11ed_bdbb_96000040dfb6row1_col3\" class=\"data row1 col3\" >1.5%</td>\n",
       "                        <td id=\"T_59d1679c_1e19_11ed_bdbb_96000040dfb6row1_col4\" class=\"data row1 col4\" >2.7%</td>\n",
       "                        <td id=\"T_59d1679c_1e19_11ed_bdbb_96000040dfb6row1_col5\" class=\"data row1 col5\" >4.7%</td>\n",
       "                        <td id=\"T_59d1679c_1e19_11ed_bdbb_96000040dfb6row1_col6\" class=\"data row1 col6\" >3.3%</td>\n",
       "                        <td id=\"T_59d1679c_1e19_11ed_bdbb_96000040dfb6row1_col7\" class=\"data row1 col7\" >6.5%</td>\n",
       "                        <td id=\"T_59d1679c_1e19_11ed_bdbb_96000040dfb6row1_col8\" class=\"data row1 col8\" >6.8%</td>\n",
       "                        <td id=\"T_59d1679c_1e19_11ed_bdbb_96000040dfb6row1_col9\" class=\"data row1 col9\" >7.7%</td>\n",
       "                        <td id=\"T_59d1679c_1e19_11ed_bdbb_96000040dfb6row1_col10\" class=\"data row1 col10\" >3.9%</td>\n",
       "                        <td id=\"T_59d1679c_1e19_11ed_bdbb_96000040dfb6row1_col11\" class=\"data row1 col11\" >6.5%</td>\n",
       "                        <td id=\"T_59d1679c_1e19_11ed_bdbb_96000040dfb6row1_col12\" class=\"data row1 col12\" >5.0%</td>\n",
       "                        <td id=\"T_59d1679c_1e19_11ed_bdbb_96000040dfb6row1_col13\" class=\"data row1 col13\" >6.5%</td>\n",
       "                        <td id=\"T_59d1679c_1e19_11ed_bdbb_96000040dfb6row1_col14\" class=\"data row1 col14\" >3.9%</td>\n",
       "                        <td id=\"T_59d1679c_1e19_11ed_bdbb_96000040dfb6row1_col15\" class=\"data row1 col15\" >4.7%</td>\n",
       "                        <td id=\"T_59d1679c_1e19_11ed_bdbb_96000040dfb6row1_col16\" class=\"data row1 col16\" >2.4%</td>\n",
       "                        <td id=\"T_59d1679c_1e19_11ed_bdbb_96000040dfb6row1_col17\" class=\"data row1 col17\" >5.0%</td>\n",
       "                        <td id=\"T_59d1679c_1e19_11ed_bdbb_96000040dfb6row1_col18\" class=\"data row1 col18\" ></td>\n",
       "            </tr>\n",
       "            <tr>\n",
       "                                <td id=\"T_59d1679c_1e19_11ed_bdbb_96000040dfb6row2_col0\" class=\"data row2 col0\" >2018-02-03</td>\n",
       "                        <td id=\"T_59d1679c_1e19_11ed_bdbb_96000040dfb6row2_col1\" class=\"data row2 col1\" >337</td>\n",
       "                        <td id=\"T_59d1679c_1e19_11ed_bdbb_96000040dfb6row2_col2\" class=\"data row2 col2\" >100.0%</td>\n",
       "                        <td id=\"T_59d1679c_1e19_11ed_bdbb_96000040dfb6row2_col3\" class=\"data row2 col3\" >2.4%</td>\n",
       "                        <td id=\"T_59d1679c_1e19_11ed_bdbb_96000040dfb6row2_col4\" class=\"data row2 col4\" >4.7%</td>\n",
       "                        <td id=\"T_59d1679c_1e19_11ed_bdbb_96000040dfb6row2_col5\" class=\"data row2 col5\" >5.3%</td>\n",
       "                        <td id=\"T_59d1679c_1e19_11ed_bdbb_96000040dfb6row2_col6\" class=\"data row2 col6\" >6.2%</td>\n",
       "                        <td id=\"T_59d1679c_1e19_11ed_bdbb_96000040dfb6row2_col7\" class=\"data row2 col7\" >7.1%</td>\n",
       "                        <td id=\"T_59d1679c_1e19_11ed_bdbb_96000040dfb6row2_col8\" class=\"data row2 col8\" >7.1%</td>\n",
       "                        <td id=\"T_59d1679c_1e19_11ed_bdbb_96000040dfb6row2_col9\" class=\"data row2 col9\" >7.7%</td>\n",
       "                        <td id=\"T_59d1679c_1e19_11ed_bdbb_96000040dfb6row2_col10\" class=\"data row2 col10\" >8.6%</td>\n",
       "                        <td id=\"T_59d1679c_1e19_11ed_bdbb_96000040dfb6row2_col11\" class=\"data row2 col11\" >5.3%</td>\n",
       "                        <td id=\"T_59d1679c_1e19_11ed_bdbb_96000040dfb6row2_col12\" class=\"data row2 col12\" >6.2%</td>\n",
       "                        <td id=\"T_59d1679c_1e19_11ed_bdbb_96000040dfb6row2_col13\" class=\"data row2 col13\" >3.9%</td>\n",
       "                        <td id=\"T_59d1679c_1e19_11ed_bdbb_96000040dfb6row2_col14\" class=\"data row2 col14\" >5.9%</td>\n",
       "                        <td id=\"T_59d1679c_1e19_11ed_bdbb_96000040dfb6row2_col15\" class=\"data row2 col15\" >5.3%</td>\n",
       "                        <td id=\"T_59d1679c_1e19_11ed_bdbb_96000040dfb6row2_col16\" class=\"data row2 col16\" >5.9%</td>\n",
       "                        <td id=\"T_59d1679c_1e19_11ed_bdbb_96000040dfb6row2_col17\" class=\"data row2 col17\" ></td>\n",
       "                        <td id=\"T_59d1679c_1e19_11ed_bdbb_96000040dfb6row2_col18\" class=\"data row2 col18\" ></td>\n",
       "            </tr>\n",
       "            <tr>\n",
       "                                <td id=\"T_59d1679c_1e19_11ed_bdbb_96000040dfb6row3_col0\" class=\"data row3 col0\" >2018-02-04</td>\n",
       "                        <td id=\"T_59d1679c_1e19_11ed_bdbb_96000040dfb6row3_col1\" class=\"data row3 col1\" >338</td>\n",
       "                        <td id=\"T_59d1679c_1e19_11ed_bdbb_96000040dfb6row3_col2\" class=\"data row3 col2\" >100.0%</td>\n",
       "                        <td id=\"T_59d1679c_1e19_11ed_bdbb_96000040dfb6row3_col3\" class=\"data row3 col3\" >2.4%</td>\n",
       "                        <td id=\"T_59d1679c_1e19_11ed_bdbb_96000040dfb6row3_col4\" class=\"data row3 col4\" >4.4%</td>\n",
       "                        <td id=\"T_59d1679c_1e19_11ed_bdbb_96000040dfb6row3_col5\" class=\"data row3 col5\" >4.7%</td>\n",
       "                        <td id=\"T_59d1679c_1e19_11ed_bdbb_96000040dfb6row3_col6\" class=\"data row3 col6\" >5.6%</td>\n",
       "                        <td id=\"T_59d1679c_1e19_11ed_bdbb_96000040dfb6row3_col7\" class=\"data row3 col7\" >6.2%</td>\n",
       "                        <td id=\"T_59d1679c_1e19_11ed_bdbb_96000040dfb6row3_col8\" class=\"data row3 col8\" >9.2%</td>\n",
       "                        <td id=\"T_59d1679c_1e19_11ed_bdbb_96000040dfb6row3_col9\" class=\"data row3 col9\" >5.6%</td>\n",
       "                        <td id=\"T_59d1679c_1e19_11ed_bdbb_96000040dfb6row3_col10\" class=\"data row3 col10\" >2.7%</td>\n",
       "                        <td id=\"T_59d1679c_1e19_11ed_bdbb_96000040dfb6row3_col11\" class=\"data row3 col11\" >7.1%</td>\n",
       "                        <td id=\"T_59d1679c_1e19_11ed_bdbb_96000040dfb6row3_col12\" class=\"data row3 col12\" >3.8%</td>\n",
       "                        <td id=\"T_59d1679c_1e19_11ed_bdbb_96000040dfb6row3_col13\" class=\"data row3 col13\" >7.7%</td>\n",
       "                        <td id=\"T_59d1679c_1e19_11ed_bdbb_96000040dfb6row3_col14\" class=\"data row3 col14\" >5.9%</td>\n",
       "                        <td id=\"T_59d1679c_1e19_11ed_bdbb_96000040dfb6row3_col15\" class=\"data row3 col15\" >3.8%</td>\n",
       "                        <td id=\"T_59d1679c_1e19_11ed_bdbb_96000040dfb6row3_col16\" class=\"data row3 col16\" ></td>\n",
       "                        <td id=\"T_59d1679c_1e19_11ed_bdbb_96000040dfb6row3_col17\" class=\"data row3 col17\" ></td>\n",
       "                        <td id=\"T_59d1679c_1e19_11ed_bdbb_96000040dfb6row3_col18\" class=\"data row3 col18\" ></td>\n",
       "            </tr>\n",
       "            <tr>\n",
       "                                <td id=\"T_59d1679c_1e19_11ed_bdbb_96000040dfb6row4_col0\" class=\"data row4 col0\" >2018-02-05</td>\n",
       "                        <td id=\"T_59d1679c_1e19_11ed_bdbb_96000040dfb6row4_col1\" class=\"data row4 col1\" >339</td>\n",
       "                        <td id=\"T_59d1679c_1e19_11ed_bdbb_96000040dfb6row4_col2\" class=\"data row4 col2\" >100.0%</td>\n",
       "                        <td id=\"T_59d1679c_1e19_11ed_bdbb_96000040dfb6row4_col3\" class=\"data row4 col3\" >1.8%</td>\n",
       "                        <td id=\"T_59d1679c_1e19_11ed_bdbb_96000040dfb6row4_col4\" class=\"data row4 col4\" >2.9%</td>\n",
       "                        <td id=\"T_59d1679c_1e19_11ed_bdbb_96000040dfb6row4_col5\" class=\"data row4 col5\" >7.1%</td>\n",
       "                        <td id=\"T_59d1679c_1e19_11ed_bdbb_96000040dfb6row4_col6\" class=\"data row4 col6\" >3.8%</td>\n",
       "                        <td id=\"T_59d1679c_1e19_11ed_bdbb_96000040dfb6row4_col7\" class=\"data row4 col7\" >5.6%</td>\n",
       "                        <td id=\"T_59d1679c_1e19_11ed_bdbb_96000040dfb6row4_col8\" class=\"data row4 col8\" >8.6%</td>\n",
       "                        <td id=\"T_59d1679c_1e19_11ed_bdbb_96000040dfb6row4_col9\" class=\"data row4 col9\" >7.4%</td>\n",
       "                        <td id=\"T_59d1679c_1e19_11ed_bdbb_96000040dfb6row4_col10\" class=\"data row4 col10\" >7.4%</td>\n",
       "                        <td id=\"T_59d1679c_1e19_11ed_bdbb_96000040dfb6row4_col11\" class=\"data row4 col11\" >3.2%</td>\n",
       "                        <td id=\"T_59d1679c_1e19_11ed_bdbb_96000040dfb6row4_col12\" class=\"data row4 col12\" >5.3%</td>\n",
       "                        <td id=\"T_59d1679c_1e19_11ed_bdbb_96000040dfb6row4_col13\" class=\"data row4 col13\" >5.3%</td>\n",
       "                        <td id=\"T_59d1679c_1e19_11ed_bdbb_96000040dfb6row4_col14\" class=\"data row4 col14\" >6.8%</td>\n",
       "                        <td id=\"T_59d1679c_1e19_11ed_bdbb_96000040dfb6row4_col15\" class=\"data row4 col15\" ></td>\n",
       "                        <td id=\"T_59d1679c_1e19_11ed_bdbb_96000040dfb6row4_col16\" class=\"data row4 col16\" ></td>\n",
       "                        <td id=\"T_59d1679c_1e19_11ed_bdbb_96000040dfb6row4_col17\" class=\"data row4 col17\" ></td>\n",
       "                        <td id=\"T_59d1679c_1e19_11ed_bdbb_96000040dfb6row4_col18\" class=\"data row4 col18\" ></td>\n",
       "            </tr>\n",
       "            <tr>\n",
       "                                <td id=\"T_59d1679c_1e19_11ed_bdbb_96000040dfb6row5_col0\" class=\"data row5 col0\" >2018-02-06</td>\n",
       "                        <td id=\"T_59d1679c_1e19_11ed_bdbb_96000040dfb6row5_col1\" class=\"data row5 col1\" >339</td>\n",
       "                        <td id=\"T_59d1679c_1e19_11ed_bdbb_96000040dfb6row5_col2\" class=\"data row5 col2\" >100.0%</td>\n",
       "                        <td id=\"T_59d1679c_1e19_11ed_bdbb_96000040dfb6row5_col3\" class=\"data row5 col3\" >1.8%</td>\n",
       "                        <td id=\"T_59d1679c_1e19_11ed_bdbb_96000040dfb6row5_col4\" class=\"data row5 col4\" >4.4%</td>\n",
       "                        <td id=\"T_59d1679c_1e19_11ed_bdbb_96000040dfb6row5_col5\" class=\"data row5 col5\" >4.4%</td>\n",
       "                        <td id=\"T_59d1679c_1e19_11ed_bdbb_96000040dfb6row5_col6\" class=\"data row5 col6\" >4.4%</td>\n",
       "                        <td id=\"T_59d1679c_1e19_11ed_bdbb_96000040dfb6row5_col7\" class=\"data row5 col7\" >8.0%</td>\n",
       "                        <td id=\"T_59d1679c_1e19_11ed_bdbb_96000040dfb6row5_col8\" class=\"data row5 col8\" >5.9%</td>\n",
       "                        <td id=\"T_59d1679c_1e19_11ed_bdbb_96000040dfb6row5_col9\" class=\"data row5 col9\" >6.5%</td>\n",
       "                        <td id=\"T_59d1679c_1e19_11ed_bdbb_96000040dfb6row5_col10\" class=\"data row5 col10\" >2.4%</td>\n",
       "                        <td id=\"T_59d1679c_1e19_11ed_bdbb_96000040dfb6row5_col11\" class=\"data row5 col11\" >5.3%</td>\n",
       "                        <td id=\"T_59d1679c_1e19_11ed_bdbb_96000040dfb6row5_col12\" class=\"data row5 col12\" >4.4%</td>\n",
       "                        <td id=\"T_59d1679c_1e19_11ed_bdbb_96000040dfb6row5_col13\" class=\"data row5 col13\" >5.3%</td>\n",
       "                        <td id=\"T_59d1679c_1e19_11ed_bdbb_96000040dfb6row5_col14\" class=\"data row5 col14\" ></td>\n",
       "                        <td id=\"T_59d1679c_1e19_11ed_bdbb_96000040dfb6row5_col15\" class=\"data row5 col15\" ></td>\n",
       "                        <td id=\"T_59d1679c_1e19_11ed_bdbb_96000040dfb6row5_col16\" class=\"data row5 col16\" ></td>\n",
       "                        <td id=\"T_59d1679c_1e19_11ed_bdbb_96000040dfb6row5_col17\" class=\"data row5 col17\" ></td>\n",
       "                        <td id=\"T_59d1679c_1e19_11ed_bdbb_96000040dfb6row5_col18\" class=\"data row5 col18\" ></td>\n",
       "            </tr>\n",
       "            <tr>\n",
       "                                <td id=\"T_59d1679c_1e19_11ed_bdbb_96000040dfb6row6_col0\" class=\"data row6 col0\" >2018-02-07</td>\n",
       "                        <td id=\"T_59d1679c_1e19_11ed_bdbb_96000040dfb6row6_col1\" class=\"data row6 col1\" >339</td>\n",
       "                        <td id=\"T_59d1679c_1e19_11ed_bdbb_96000040dfb6row6_col2\" class=\"data row6 col2\" >100.0%</td>\n",
       "                        <td id=\"T_59d1679c_1e19_11ed_bdbb_96000040dfb6row6_col3\" class=\"data row6 col3\" >2.7%</td>\n",
       "                        <td id=\"T_59d1679c_1e19_11ed_bdbb_96000040dfb6row6_col4\" class=\"data row6 col4\" >2.4%</td>\n",
       "                        <td id=\"T_59d1679c_1e19_11ed_bdbb_96000040dfb6row6_col5\" class=\"data row6 col5\" >5.9%</td>\n",
       "                        <td id=\"T_59d1679c_1e19_11ed_bdbb_96000040dfb6row6_col6\" class=\"data row6 col6\" >4.4%</td>\n",
       "                        <td id=\"T_59d1679c_1e19_11ed_bdbb_96000040dfb6row6_col7\" class=\"data row6 col7\" >5.9%</td>\n",
       "                        <td id=\"T_59d1679c_1e19_11ed_bdbb_96000040dfb6row6_col8\" class=\"data row6 col8\" >7.7%</td>\n",
       "                        <td id=\"T_59d1679c_1e19_11ed_bdbb_96000040dfb6row6_col9\" class=\"data row6 col9\" >4.4%</td>\n",
       "                        <td id=\"T_59d1679c_1e19_11ed_bdbb_96000040dfb6row6_col10\" class=\"data row6 col10\" >3.2%</td>\n",
       "                        <td id=\"T_59d1679c_1e19_11ed_bdbb_96000040dfb6row6_col11\" class=\"data row6 col11\" >4.1%</td>\n",
       "                        <td id=\"T_59d1679c_1e19_11ed_bdbb_96000040dfb6row6_col12\" class=\"data row6 col12\" >4.7%</td>\n",
       "                        <td id=\"T_59d1679c_1e19_11ed_bdbb_96000040dfb6row6_col13\" class=\"data row6 col13\" ></td>\n",
       "                        <td id=\"T_59d1679c_1e19_11ed_bdbb_96000040dfb6row6_col14\" class=\"data row6 col14\" ></td>\n",
       "                        <td id=\"T_59d1679c_1e19_11ed_bdbb_96000040dfb6row6_col15\" class=\"data row6 col15\" ></td>\n",
       "                        <td id=\"T_59d1679c_1e19_11ed_bdbb_96000040dfb6row6_col16\" class=\"data row6 col16\" ></td>\n",
       "                        <td id=\"T_59d1679c_1e19_11ed_bdbb_96000040dfb6row6_col17\" class=\"data row6 col17\" ></td>\n",
       "                        <td id=\"T_59d1679c_1e19_11ed_bdbb_96000040dfb6row6_col18\" class=\"data row6 col18\" ></td>\n",
       "            </tr>\n",
       "            <tr>\n",
       "                                <td id=\"T_59d1679c_1e19_11ed_bdbb_96000040dfb6row7_col0\" class=\"data row7 col0\" >2018-02-08</td>\n",
       "                        <td id=\"T_59d1679c_1e19_11ed_bdbb_96000040dfb6row7_col1\" class=\"data row7 col1\" >341</td>\n",
       "                        <td id=\"T_59d1679c_1e19_11ed_bdbb_96000040dfb6row7_col2\" class=\"data row7 col2\" >100.0%</td>\n",
       "                        <td id=\"T_59d1679c_1e19_11ed_bdbb_96000040dfb6row7_col3\" class=\"data row7 col3\" >2.3%</td>\n",
       "                        <td id=\"T_59d1679c_1e19_11ed_bdbb_96000040dfb6row7_col4\" class=\"data row7 col4\" >2.1%</td>\n",
       "                        <td id=\"T_59d1679c_1e19_11ed_bdbb_96000040dfb6row7_col5\" class=\"data row7 col5\" >6.2%</td>\n",
       "                        <td id=\"T_59d1679c_1e19_11ed_bdbb_96000040dfb6row7_col6\" class=\"data row7 col6\" >4.4%</td>\n",
       "                        <td id=\"T_59d1679c_1e19_11ed_bdbb_96000040dfb6row7_col7\" class=\"data row7 col7\" >7.6%</td>\n",
       "                        <td id=\"T_59d1679c_1e19_11ed_bdbb_96000040dfb6row7_col8\" class=\"data row7 col8\" >6.7%</td>\n",
       "                        <td id=\"T_59d1679c_1e19_11ed_bdbb_96000040dfb6row7_col9\" class=\"data row7 col9\" >5.9%</td>\n",
       "                        <td id=\"T_59d1679c_1e19_11ed_bdbb_96000040dfb6row7_col10\" class=\"data row7 col10\" >2.9%</td>\n",
       "                        <td id=\"T_59d1679c_1e19_11ed_bdbb_96000040dfb6row7_col11\" class=\"data row7 col11\" >5.3%</td>\n",
       "                        <td id=\"T_59d1679c_1e19_11ed_bdbb_96000040dfb6row7_col12\" class=\"data row7 col12\" ></td>\n",
       "                        <td id=\"T_59d1679c_1e19_11ed_bdbb_96000040dfb6row7_col13\" class=\"data row7 col13\" ></td>\n",
       "                        <td id=\"T_59d1679c_1e19_11ed_bdbb_96000040dfb6row7_col14\" class=\"data row7 col14\" ></td>\n",
       "                        <td id=\"T_59d1679c_1e19_11ed_bdbb_96000040dfb6row7_col15\" class=\"data row7 col15\" ></td>\n",
       "                        <td id=\"T_59d1679c_1e19_11ed_bdbb_96000040dfb6row7_col16\" class=\"data row7 col16\" ></td>\n",
       "                        <td id=\"T_59d1679c_1e19_11ed_bdbb_96000040dfb6row7_col17\" class=\"data row7 col17\" ></td>\n",
       "                        <td id=\"T_59d1679c_1e19_11ed_bdbb_96000040dfb6row7_col18\" class=\"data row7 col18\" ></td>\n",
       "            </tr>\n",
       "            <tr>\n",
       "                                <td id=\"T_59d1679c_1e19_11ed_bdbb_96000040dfb6row8_col0\" class=\"data row8 col0\" >2018-02-09</td>\n",
       "                        <td id=\"T_59d1679c_1e19_11ed_bdbb_96000040dfb6row8_col1\" class=\"data row8 col1\" >340</td>\n",
       "                        <td id=\"T_59d1679c_1e19_11ed_bdbb_96000040dfb6row8_col2\" class=\"data row8 col2\" >100.0%</td>\n",
       "                        <td id=\"T_59d1679c_1e19_11ed_bdbb_96000040dfb6row8_col3\" class=\"data row8 col3\" >1.5%</td>\n",
       "                        <td id=\"T_59d1679c_1e19_11ed_bdbb_96000040dfb6row8_col4\" class=\"data row8 col4\" >3.2%</td>\n",
       "                        <td id=\"T_59d1679c_1e19_11ed_bdbb_96000040dfb6row8_col5\" class=\"data row8 col5\" >4.7%</td>\n",
       "                        <td id=\"T_59d1679c_1e19_11ed_bdbb_96000040dfb6row8_col6\" class=\"data row8 col6\" >4.4%</td>\n",
       "                        <td id=\"T_59d1679c_1e19_11ed_bdbb_96000040dfb6row8_col7\" class=\"data row8 col7\" >4.7%</td>\n",
       "                        <td id=\"T_59d1679c_1e19_11ed_bdbb_96000040dfb6row8_col8\" class=\"data row8 col8\" >7.6%</td>\n",
       "                        <td id=\"T_59d1679c_1e19_11ed_bdbb_96000040dfb6row8_col9\" class=\"data row8 col9\" >6.2%</td>\n",
       "                        <td id=\"T_59d1679c_1e19_11ed_bdbb_96000040dfb6row8_col10\" class=\"data row8 col10\" >4.1%</td>\n",
       "                        <td id=\"T_59d1679c_1e19_11ed_bdbb_96000040dfb6row8_col11\" class=\"data row8 col11\" ></td>\n",
       "                        <td id=\"T_59d1679c_1e19_11ed_bdbb_96000040dfb6row8_col12\" class=\"data row8 col12\" ></td>\n",
       "                        <td id=\"T_59d1679c_1e19_11ed_bdbb_96000040dfb6row8_col13\" class=\"data row8 col13\" ></td>\n",
       "                        <td id=\"T_59d1679c_1e19_11ed_bdbb_96000040dfb6row8_col14\" class=\"data row8 col14\" ></td>\n",
       "                        <td id=\"T_59d1679c_1e19_11ed_bdbb_96000040dfb6row8_col15\" class=\"data row8 col15\" ></td>\n",
       "                        <td id=\"T_59d1679c_1e19_11ed_bdbb_96000040dfb6row8_col16\" class=\"data row8 col16\" ></td>\n",
       "                        <td id=\"T_59d1679c_1e19_11ed_bdbb_96000040dfb6row8_col17\" class=\"data row8 col17\" ></td>\n",
       "                        <td id=\"T_59d1679c_1e19_11ed_bdbb_96000040dfb6row8_col18\" class=\"data row8 col18\" ></td>\n",
       "            </tr>\n",
       "            <tr>\n",
       "                                <td id=\"T_59d1679c_1e19_11ed_bdbb_96000040dfb6row9_col0\" class=\"data row9 col0\" >2018-02-10</td>\n",
       "                        <td id=\"T_59d1679c_1e19_11ed_bdbb_96000040dfb6row9_col1\" class=\"data row9 col1\" >342</td>\n",
       "                        <td id=\"T_59d1679c_1e19_11ed_bdbb_96000040dfb6row9_col2\" class=\"data row9 col2\" >100.0%</td>\n",
       "                        <td id=\"T_59d1679c_1e19_11ed_bdbb_96000040dfb6row9_col3\" class=\"data row9 col3\" >2.6%</td>\n",
       "                        <td id=\"T_59d1679c_1e19_11ed_bdbb_96000040dfb6row9_col4\" class=\"data row9 col4\" >4.4%</td>\n",
       "                        <td id=\"T_59d1679c_1e19_11ed_bdbb_96000040dfb6row9_col5\" class=\"data row9 col5\" >2.9%</td>\n",
       "                        <td id=\"T_59d1679c_1e19_11ed_bdbb_96000040dfb6row9_col6\" class=\"data row9 col6\" >7.0%</td>\n",
       "                        <td id=\"T_59d1679c_1e19_11ed_bdbb_96000040dfb6row9_col7\" class=\"data row9 col7\" >7.9%</td>\n",
       "                        <td id=\"T_59d1679c_1e19_11ed_bdbb_96000040dfb6row9_col8\" class=\"data row9 col8\" >8.8%</td>\n",
       "                        <td id=\"T_59d1679c_1e19_11ed_bdbb_96000040dfb6row9_col9\" class=\"data row9 col9\" >4.7%</td>\n",
       "                        <td id=\"T_59d1679c_1e19_11ed_bdbb_96000040dfb6row9_col10\" class=\"data row9 col10\" ></td>\n",
       "                        <td id=\"T_59d1679c_1e19_11ed_bdbb_96000040dfb6row9_col11\" class=\"data row9 col11\" ></td>\n",
       "                        <td id=\"T_59d1679c_1e19_11ed_bdbb_96000040dfb6row9_col12\" class=\"data row9 col12\" ></td>\n",
       "                        <td id=\"T_59d1679c_1e19_11ed_bdbb_96000040dfb6row9_col13\" class=\"data row9 col13\" ></td>\n",
       "                        <td id=\"T_59d1679c_1e19_11ed_bdbb_96000040dfb6row9_col14\" class=\"data row9 col14\" ></td>\n",
       "                        <td id=\"T_59d1679c_1e19_11ed_bdbb_96000040dfb6row9_col15\" class=\"data row9 col15\" ></td>\n",
       "                        <td id=\"T_59d1679c_1e19_11ed_bdbb_96000040dfb6row9_col16\" class=\"data row9 col16\" ></td>\n",
       "                        <td id=\"T_59d1679c_1e19_11ed_bdbb_96000040dfb6row9_col17\" class=\"data row9 col17\" ></td>\n",
       "                        <td id=\"T_59d1679c_1e19_11ed_bdbb_96000040dfb6row9_col18\" class=\"data row9 col18\" ></td>\n",
       "            </tr>\n",
       "            <tr>\n",
       "                                <td id=\"T_59d1679c_1e19_11ed_bdbb_96000040dfb6row10_col0\" class=\"data row10 col0\" >2018-02-11</td>\n",
       "                        <td id=\"T_59d1679c_1e19_11ed_bdbb_96000040dfb6row10_col1\" class=\"data row10 col1\" >342</td>\n",
       "                        <td id=\"T_59d1679c_1e19_11ed_bdbb_96000040dfb6row10_col2\" class=\"data row10 col2\" >100.0%</td>\n",
       "                        <td id=\"T_59d1679c_1e19_11ed_bdbb_96000040dfb6row10_col3\" class=\"data row10 col3\" >2.0%</td>\n",
       "                        <td id=\"T_59d1679c_1e19_11ed_bdbb_96000040dfb6row10_col4\" class=\"data row10 col4\" >2.6%</td>\n",
       "                        <td id=\"T_59d1679c_1e19_11ed_bdbb_96000040dfb6row10_col5\" class=\"data row10 col5\" >4.4%</td>\n",
       "                        <td id=\"T_59d1679c_1e19_11ed_bdbb_96000040dfb6row10_col6\" class=\"data row10 col6\" >6.1%</td>\n",
       "                        <td id=\"T_59d1679c_1e19_11ed_bdbb_96000040dfb6row10_col7\" class=\"data row10 col7\" >5.8%</td>\n",
       "                        <td id=\"T_59d1679c_1e19_11ed_bdbb_96000040dfb6row10_col8\" class=\"data row10 col8\" >8.2%</td>\n",
       "                        <td id=\"T_59d1679c_1e19_11ed_bdbb_96000040dfb6row10_col9\" class=\"data row10 col9\" ></td>\n",
       "                        <td id=\"T_59d1679c_1e19_11ed_bdbb_96000040dfb6row10_col10\" class=\"data row10 col10\" ></td>\n",
       "                        <td id=\"T_59d1679c_1e19_11ed_bdbb_96000040dfb6row10_col11\" class=\"data row10 col11\" ></td>\n",
       "                        <td id=\"T_59d1679c_1e19_11ed_bdbb_96000040dfb6row10_col12\" class=\"data row10 col12\" ></td>\n",
       "                        <td id=\"T_59d1679c_1e19_11ed_bdbb_96000040dfb6row10_col13\" class=\"data row10 col13\" ></td>\n",
       "                        <td id=\"T_59d1679c_1e19_11ed_bdbb_96000040dfb6row10_col14\" class=\"data row10 col14\" ></td>\n",
       "                        <td id=\"T_59d1679c_1e19_11ed_bdbb_96000040dfb6row10_col15\" class=\"data row10 col15\" ></td>\n",
       "                        <td id=\"T_59d1679c_1e19_11ed_bdbb_96000040dfb6row10_col16\" class=\"data row10 col16\" ></td>\n",
       "                        <td id=\"T_59d1679c_1e19_11ed_bdbb_96000040dfb6row10_col17\" class=\"data row10 col17\" ></td>\n",
       "                        <td id=\"T_59d1679c_1e19_11ed_bdbb_96000040dfb6row10_col18\" class=\"data row10 col18\" ></td>\n",
       "            </tr>\n",
       "            <tr>\n",
       "                                <td id=\"T_59d1679c_1e19_11ed_bdbb_96000040dfb6row11_col0\" class=\"data row11 col0\" >2018-02-12</td>\n",
       "                        <td id=\"T_59d1679c_1e19_11ed_bdbb_96000040dfb6row11_col1\" class=\"data row11 col1\" >342</td>\n",
       "                        <td id=\"T_59d1679c_1e19_11ed_bdbb_96000040dfb6row11_col2\" class=\"data row11 col2\" >100.0%</td>\n",
       "                        <td id=\"T_59d1679c_1e19_11ed_bdbb_96000040dfb6row11_col3\" class=\"data row11 col3\" >3.5%</td>\n",
       "                        <td id=\"T_59d1679c_1e19_11ed_bdbb_96000040dfb6row11_col4\" class=\"data row11 col4\" >4.7%</td>\n",
       "                        <td id=\"T_59d1679c_1e19_11ed_bdbb_96000040dfb6row11_col5\" class=\"data row11 col5\" >5.6%</td>\n",
       "                        <td id=\"T_59d1679c_1e19_11ed_bdbb_96000040dfb6row11_col6\" class=\"data row11 col6\" >6.4%</td>\n",
       "                        <td id=\"T_59d1679c_1e19_11ed_bdbb_96000040dfb6row11_col7\" class=\"data row11 col7\" >5.0%</td>\n",
       "                        <td id=\"T_59d1679c_1e19_11ed_bdbb_96000040dfb6row11_col8\" class=\"data row11 col8\" ></td>\n",
       "                        <td id=\"T_59d1679c_1e19_11ed_bdbb_96000040dfb6row11_col9\" class=\"data row11 col9\" ></td>\n",
       "                        <td id=\"T_59d1679c_1e19_11ed_bdbb_96000040dfb6row11_col10\" class=\"data row11 col10\" ></td>\n",
       "                        <td id=\"T_59d1679c_1e19_11ed_bdbb_96000040dfb6row11_col11\" class=\"data row11 col11\" ></td>\n",
       "                        <td id=\"T_59d1679c_1e19_11ed_bdbb_96000040dfb6row11_col12\" class=\"data row11 col12\" ></td>\n",
       "                        <td id=\"T_59d1679c_1e19_11ed_bdbb_96000040dfb6row11_col13\" class=\"data row11 col13\" ></td>\n",
       "                        <td id=\"T_59d1679c_1e19_11ed_bdbb_96000040dfb6row11_col14\" class=\"data row11 col14\" ></td>\n",
       "                        <td id=\"T_59d1679c_1e19_11ed_bdbb_96000040dfb6row11_col15\" class=\"data row11 col15\" ></td>\n",
       "                        <td id=\"T_59d1679c_1e19_11ed_bdbb_96000040dfb6row11_col16\" class=\"data row11 col16\" ></td>\n",
       "                        <td id=\"T_59d1679c_1e19_11ed_bdbb_96000040dfb6row11_col17\" class=\"data row11 col17\" ></td>\n",
       "                        <td id=\"T_59d1679c_1e19_11ed_bdbb_96000040dfb6row11_col18\" class=\"data row11 col18\" ></td>\n",
       "            </tr>\n",
       "            <tr>\n",
       "                                <td id=\"T_59d1679c_1e19_11ed_bdbb_96000040dfb6row12_col0\" class=\"data row12 col0\" >2018-02-13</td>\n",
       "                        <td id=\"T_59d1679c_1e19_11ed_bdbb_96000040dfb6row12_col1\" class=\"data row12 col1\" >343</td>\n",
       "                        <td id=\"T_59d1679c_1e19_11ed_bdbb_96000040dfb6row12_col2\" class=\"data row12 col2\" >100.0%</td>\n",
       "                        <td id=\"T_59d1679c_1e19_11ed_bdbb_96000040dfb6row12_col3\" class=\"data row12 col3\" >2.6%</td>\n",
       "                        <td id=\"T_59d1679c_1e19_11ed_bdbb_96000040dfb6row12_col4\" class=\"data row12 col4\" >5.2%</td>\n",
       "                        <td id=\"T_59d1679c_1e19_11ed_bdbb_96000040dfb6row12_col5\" class=\"data row12 col5\" >6.7%</td>\n",
       "                        <td id=\"T_59d1679c_1e19_11ed_bdbb_96000040dfb6row12_col6\" class=\"data row12 col6\" >5.0%</td>\n",
       "                        <td id=\"T_59d1679c_1e19_11ed_bdbb_96000040dfb6row12_col7\" class=\"data row12 col7\" ></td>\n",
       "                        <td id=\"T_59d1679c_1e19_11ed_bdbb_96000040dfb6row12_col8\" class=\"data row12 col8\" ></td>\n",
       "                        <td id=\"T_59d1679c_1e19_11ed_bdbb_96000040dfb6row12_col9\" class=\"data row12 col9\" ></td>\n",
       "                        <td id=\"T_59d1679c_1e19_11ed_bdbb_96000040dfb6row12_col10\" class=\"data row12 col10\" ></td>\n",
       "                        <td id=\"T_59d1679c_1e19_11ed_bdbb_96000040dfb6row12_col11\" class=\"data row12 col11\" ></td>\n",
       "                        <td id=\"T_59d1679c_1e19_11ed_bdbb_96000040dfb6row12_col12\" class=\"data row12 col12\" ></td>\n",
       "                        <td id=\"T_59d1679c_1e19_11ed_bdbb_96000040dfb6row12_col13\" class=\"data row12 col13\" ></td>\n",
       "                        <td id=\"T_59d1679c_1e19_11ed_bdbb_96000040dfb6row12_col14\" class=\"data row12 col14\" ></td>\n",
       "                        <td id=\"T_59d1679c_1e19_11ed_bdbb_96000040dfb6row12_col15\" class=\"data row12 col15\" ></td>\n",
       "                        <td id=\"T_59d1679c_1e19_11ed_bdbb_96000040dfb6row12_col16\" class=\"data row12 col16\" ></td>\n",
       "                        <td id=\"T_59d1679c_1e19_11ed_bdbb_96000040dfb6row12_col17\" class=\"data row12 col17\" ></td>\n",
       "                        <td id=\"T_59d1679c_1e19_11ed_bdbb_96000040dfb6row12_col18\" class=\"data row12 col18\" ></td>\n",
       "            </tr>\n",
       "            <tr>\n",
       "                                <td id=\"T_59d1679c_1e19_11ed_bdbb_96000040dfb6row13_col0\" class=\"data row13 col0\" >2018-02-14</td>\n",
       "                        <td id=\"T_59d1679c_1e19_11ed_bdbb_96000040dfb6row13_col1\" class=\"data row13 col1\" >344</td>\n",
       "                        <td id=\"T_59d1679c_1e19_11ed_bdbb_96000040dfb6row13_col2\" class=\"data row13 col2\" >100.0%</td>\n",
       "                        <td id=\"T_59d1679c_1e19_11ed_bdbb_96000040dfb6row13_col3\" class=\"data row13 col3\" >0.9%</td>\n",
       "                        <td id=\"T_59d1679c_1e19_11ed_bdbb_96000040dfb6row13_col4\" class=\"data row13 col4\" >4.1%</td>\n",
       "                        <td id=\"T_59d1679c_1e19_11ed_bdbb_96000040dfb6row13_col5\" class=\"data row13 col5\" >4.9%</td>\n",
       "                        <td id=\"T_59d1679c_1e19_11ed_bdbb_96000040dfb6row13_col6\" class=\"data row13 col6\" ></td>\n",
       "                        <td id=\"T_59d1679c_1e19_11ed_bdbb_96000040dfb6row13_col7\" class=\"data row13 col7\" ></td>\n",
       "                        <td id=\"T_59d1679c_1e19_11ed_bdbb_96000040dfb6row13_col8\" class=\"data row13 col8\" ></td>\n",
       "                        <td id=\"T_59d1679c_1e19_11ed_bdbb_96000040dfb6row13_col9\" class=\"data row13 col9\" ></td>\n",
       "                        <td id=\"T_59d1679c_1e19_11ed_bdbb_96000040dfb6row13_col10\" class=\"data row13 col10\" ></td>\n",
       "                        <td id=\"T_59d1679c_1e19_11ed_bdbb_96000040dfb6row13_col11\" class=\"data row13 col11\" ></td>\n",
       "                        <td id=\"T_59d1679c_1e19_11ed_bdbb_96000040dfb6row13_col12\" class=\"data row13 col12\" ></td>\n",
       "                        <td id=\"T_59d1679c_1e19_11ed_bdbb_96000040dfb6row13_col13\" class=\"data row13 col13\" ></td>\n",
       "                        <td id=\"T_59d1679c_1e19_11ed_bdbb_96000040dfb6row13_col14\" class=\"data row13 col14\" ></td>\n",
       "                        <td id=\"T_59d1679c_1e19_11ed_bdbb_96000040dfb6row13_col15\" class=\"data row13 col15\" ></td>\n",
       "                        <td id=\"T_59d1679c_1e19_11ed_bdbb_96000040dfb6row13_col16\" class=\"data row13 col16\" ></td>\n",
       "                        <td id=\"T_59d1679c_1e19_11ed_bdbb_96000040dfb6row13_col17\" class=\"data row13 col17\" ></td>\n",
       "                        <td id=\"T_59d1679c_1e19_11ed_bdbb_96000040dfb6row13_col18\" class=\"data row13 col18\" ></td>\n",
       "            </tr>\n",
       "            <tr>\n",
       "                                <td id=\"T_59d1679c_1e19_11ed_bdbb_96000040dfb6row14_col0\" class=\"data row14 col0\" >2018-02-15</td>\n",
       "                        <td id=\"T_59d1679c_1e19_11ed_bdbb_96000040dfb6row14_col1\" class=\"data row14 col1\" >344</td>\n",
       "                        <td id=\"T_59d1679c_1e19_11ed_bdbb_96000040dfb6row14_col2\" class=\"data row14 col2\" >100.0%</td>\n",
       "                        <td id=\"T_59d1679c_1e19_11ed_bdbb_96000040dfb6row14_col3\" class=\"data row14 col3\" >1.2%</td>\n",
       "                        <td id=\"T_59d1679c_1e19_11ed_bdbb_96000040dfb6row14_col4\" class=\"data row14 col4\" >3.8%</td>\n",
       "                        <td id=\"T_59d1679c_1e19_11ed_bdbb_96000040dfb6row14_col5\" class=\"data row14 col5\" ></td>\n",
       "                        <td id=\"T_59d1679c_1e19_11ed_bdbb_96000040dfb6row14_col6\" class=\"data row14 col6\" ></td>\n",
       "                        <td id=\"T_59d1679c_1e19_11ed_bdbb_96000040dfb6row14_col7\" class=\"data row14 col7\" ></td>\n",
       "                        <td id=\"T_59d1679c_1e19_11ed_bdbb_96000040dfb6row14_col8\" class=\"data row14 col8\" ></td>\n",
       "                        <td id=\"T_59d1679c_1e19_11ed_bdbb_96000040dfb6row14_col9\" class=\"data row14 col9\" ></td>\n",
       "                        <td id=\"T_59d1679c_1e19_11ed_bdbb_96000040dfb6row14_col10\" class=\"data row14 col10\" ></td>\n",
       "                        <td id=\"T_59d1679c_1e19_11ed_bdbb_96000040dfb6row14_col11\" class=\"data row14 col11\" ></td>\n",
       "                        <td id=\"T_59d1679c_1e19_11ed_bdbb_96000040dfb6row14_col12\" class=\"data row14 col12\" ></td>\n",
       "                        <td id=\"T_59d1679c_1e19_11ed_bdbb_96000040dfb6row14_col13\" class=\"data row14 col13\" ></td>\n",
       "                        <td id=\"T_59d1679c_1e19_11ed_bdbb_96000040dfb6row14_col14\" class=\"data row14 col14\" ></td>\n",
       "                        <td id=\"T_59d1679c_1e19_11ed_bdbb_96000040dfb6row14_col15\" class=\"data row14 col15\" ></td>\n",
       "                        <td id=\"T_59d1679c_1e19_11ed_bdbb_96000040dfb6row14_col16\" class=\"data row14 col16\" ></td>\n",
       "                        <td id=\"T_59d1679c_1e19_11ed_bdbb_96000040dfb6row14_col17\" class=\"data row14 col17\" ></td>\n",
       "                        <td id=\"T_59d1679c_1e19_11ed_bdbb_96000040dfb6row14_col18\" class=\"data row14 col18\" ></td>\n",
       "            </tr>\n",
       "            <tr>\n",
       "                                <td id=\"T_59d1679c_1e19_11ed_bdbb_96000040dfb6row15_col0\" class=\"data row15 col0\" >2018-02-16</td>\n",
       "                        <td id=\"T_59d1679c_1e19_11ed_bdbb_96000040dfb6row15_col1\" class=\"data row15 col1\" >345</td>\n",
       "                        <td id=\"T_59d1679c_1e19_11ed_bdbb_96000040dfb6row15_col2\" class=\"data row15 col2\" >100.0%</td>\n",
       "                        <td id=\"T_59d1679c_1e19_11ed_bdbb_96000040dfb6row15_col3\" class=\"data row15 col3\" >2.0%</td>\n",
       "                        <td id=\"T_59d1679c_1e19_11ed_bdbb_96000040dfb6row15_col4\" class=\"data row15 col4\" ></td>\n",
       "                        <td id=\"T_59d1679c_1e19_11ed_bdbb_96000040dfb6row15_col5\" class=\"data row15 col5\" ></td>\n",
       "                        <td id=\"T_59d1679c_1e19_11ed_bdbb_96000040dfb6row15_col6\" class=\"data row15 col6\" ></td>\n",
       "                        <td id=\"T_59d1679c_1e19_11ed_bdbb_96000040dfb6row15_col7\" class=\"data row15 col7\" ></td>\n",
       "                        <td id=\"T_59d1679c_1e19_11ed_bdbb_96000040dfb6row15_col8\" class=\"data row15 col8\" ></td>\n",
       "                        <td id=\"T_59d1679c_1e19_11ed_bdbb_96000040dfb6row15_col9\" class=\"data row15 col9\" ></td>\n",
       "                        <td id=\"T_59d1679c_1e19_11ed_bdbb_96000040dfb6row15_col10\" class=\"data row15 col10\" ></td>\n",
       "                        <td id=\"T_59d1679c_1e19_11ed_bdbb_96000040dfb6row15_col11\" class=\"data row15 col11\" ></td>\n",
       "                        <td id=\"T_59d1679c_1e19_11ed_bdbb_96000040dfb6row15_col12\" class=\"data row15 col12\" ></td>\n",
       "                        <td id=\"T_59d1679c_1e19_11ed_bdbb_96000040dfb6row15_col13\" class=\"data row15 col13\" ></td>\n",
       "                        <td id=\"T_59d1679c_1e19_11ed_bdbb_96000040dfb6row15_col14\" class=\"data row15 col14\" ></td>\n",
       "                        <td id=\"T_59d1679c_1e19_11ed_bdbb_96000040dfb6row15_col15\" class=\"data row15 col15\" ></td>\n",
       "                        <td id=\"T_59d1679c_1e19_11ed_bdbb_96000040dfb6row15_col16\" class=\"data row15 col16\" ></td>\n",
       "                        <td id=\"T_59d1679c_1e19_11ed_bdbb_96000040dfb6row15_col17\" class=\"data row15 col17\" ></td>\n",
       "                        <td id=\"T_59d1679c_1e19_11ed_bdbb_96000040dfb6row15_col18\" class=\"data row15 col18\" ></td>\n",
       "            </tr>\n",
       "            <tr>\n",
       "                                <td id=\"T_59d1679c_1e19_11ed_bdbb_96000040dfb6row16_col0\" class=\"data row16 col0\" >2018-02-17</td>\n",
       "                        <td id=\"T_59d1679c_1e19_11ed_bdbb_96000040dfb6row16_col1\" class=\"data row16 col1\" >345</td>\n",
       "                        <td id=\"T_59d1679c_1e19_11ed_bdbb_96000040dfb6row16_col2\" class=\"data row16 col2\" >100.0%</td>\n",
       "                        <td id=\"T_59d1679c_1e19_11ed_bdbb_96000040dfb6row16_col3\" class=\"data row16 col3\" ></td>\n",
       "                        <td id=\"T_59d1679c_1e19_11ed_bdbb_96000040dfb6row16_col4\" class=\"data row16 col4\" ></td>\n",
       "                        <td id=\"T_59d1679c_1e19_11ed_bdbb_96000040dfb6row16_col5\" class=\"data row16 col5\" ></td>\n",
       "                        <td id=\"T_59d1679c_1e19_11ed_bdbb_96000040dfb6row16_col6\" class=\"data row16 col6\" ></td>\n",
       "                        <td id=\"T_59d1679c_1e19_11ed_bdbb_96000040dfb6row16_col7\" class=\"data row16 col7\" ></td>\n",
       "                        <td id=\"T_59d1679c_1e19_11ed_bdbb_96000040dfb6row16_col8\" class=\"data row16 col8\" ></td>\n",
       "                        <td id=\"T_59d1679c_1e19_11ed_bdbb_96000040dfb6row16_col9\" class=\"data row16 col9\" ></td>\n",
       "                        <td id=\"T_59d1679c_1e19_11ed_bdbb_96000040dfb6row16_col10\" class=\"data row16 col10\" ></td>\n",
       "                        <td id=\"T_59d1679c_1e19_11ed_bdbb_96000040dfb6row16_col11\" class=\"data row16 col11\" ></td>\n",
       "                        <td id=\"T_59d1679c_1e19_11ed_bdbb_96000040dfb6row16_col12\" class=\"data row16 col12\" ></td>\n",
       "                        <td id=\"T_59d1679c_1e19_11ed_bdbb_96000040dfb6row16_col13\" class=\"data row16 col13\" ></td>\n",
       "                        <td id=\"T_59d1679c_1e19_11ed_bdbb_96000040dfb6row16_col14\" class=\"data row16 col14\" ></td>\n",
       "                        <td id=\"T_59d1679c_1e19_11ed_bdbb_96000040dfb6row16_col15\" class=\"data row16 col15\" ></td>\n",
       "                        <td id=\"T_59d1679c_1e19_11ed_bdbb_96000040dfb6row16_col16\" class=\"data row16 col16\" ></td>\n",
       "                        <td id=\"T_59d1679c_1e19_11ed_bdbb_96000040dfb6row16_col17\" class=\"data row16 col17\" ></td>\n",
       "                        <td id=\"T_59d1679c_1e19_11ed_bdbb_96000040dfb6row16_col18\" class=\"data row16 col18\" ></td>\n",
       "            </tr>\n",
       "    </tbody></table>"
      ],
      "text/plain": [
       "<pandas.io.formats.style.Styler at 0x7f4dfc2e24e0>"
      ]
     },
     "execution_count": 4,
     "metadata": {},
     "output_type": "execute_result"
    }
   ],
   "source": [
    "retention_rate_by_period(\n",
    "    reg_df, auth_df, \"2018-02-01\", \"2018-02-17\", styled=True)"
   ]
  },
  {
   "cell_type": "markdown",
   "metadata": {},
   "source": [
    "---"
   ]
  },
  {
   "cell_type": "markdown",
   "metadata": {},
   "source": [
    "Вторая функция `full_retention_rate` возвращает DataFrame с подсчитанным retention rate за весь период для всех пользователей и выводит график его изменения, начиная с первого дня (нулевой день не отображен на графике)"
   ]
  },
  {
   "cell_type": "code",
   "execution_count": 5,
   "metadata": {},
   "outputs": [],
   "source": [
    "def full_retention_rate(reg_data, auth_data):\n",
    "    '''\n",
    "    Функция строит график retenrion rate за весь период (кроме 0 дня)\n",
    "    и возвращает DataFrame со столбцами: ['cohort', 'retention_rate']\n",
    "    Аргументы:\n",
    "    reg_data - объект типа DataFrame с данными о регистрации пользователей\n",
    "    auth_data - объект типа DataFrame с данными о аутентификации пользователей\n",
    "    '''\n",
    "\n",
    "    reg_data['reg_date'] = pd.to_datetime(\n",
    "        pd.to_datetime(reg_data.reg_ts, unit='s').dt.date)\n",
    "\n",
    "    auth_data['auth_date'] = pd.to_datetime(\n",
    "        pd.to_datetime(auth_data.auth_ts, unit='s').dt.date)\n",
    "\n",
    "    full_data = auth_data \\\n",
    "        .merge(\n",
    "            reg_data,\n",
    "            how='left',\n",
    "            on='uid')[['uid', 'auth_date', 'reg_date']]\n",
    "\n",
    "    full_data['cohort'] = (full_data.auth_date - full_data.reg_date).dt.days\n",
    "\n",
    "    result_df = full_data.groupby('cohort', as_index=False) \\\n",
    "        .agg(retention_rate=('uid', 'nunique'))\n",
    "\n",
    "    max_users = reg_data.shape[0]\n",
    "    result_df['retention_rate'] = result_df.retention_rate / max_users * 100\n",
    "\n",
    "    plt.figure(figsize=(15, 10))\n",
    "    ax = sns.lineplot(data=result_df.iloc[1:], x='cohort', y='retention_rate')\n",
    "    ax.set_title(\n",
    "        f'Retention rate за период с первого дня по '\n",
    "        f'{result_df.cohort.max()} день')\n",
    "    plt.xlabel('Дни')\n",
    "    plt.ylabel('Retention rate')\n",
    "    ax.yaxis.set_ticks(np.arange(0, 8, 0.5, dtype='float'))\n",
    "    ax.set_yticklabels(\n",
    "        ['{:.1f}%'.format(x) for x in ax.get_yticks()]\n",
    "    )\n",
    "    sns.despine()\n",
    "    plt.show()\n",
    "    return result_df"
   ]
  },
  {
   "cell_type": "code",
   "execution_count": 6,
   "metadata": {},
   "outputs": [
    {
     "data": {
      "image/png": "[encoded data removed]",
      "text/plain": [
       "<Figure size 1080x720 with 1 Axes>"
      ]
     },
     "metadata": {},
     "output_type": "display_data"
    }
   ],
   "source": [
    "retention_df = full_retention_rate(reg_df, auth_df)"
   ]
  },
  {
   "cell_type": "code",
   "execution_count": 7,
   "metadata": {},
   "outputs": [
    {
     "data": {
      "text/html": [
       "<div>\n",
       "<style scoped>\n",
       "    .dataframe tbody tr th:only-of-type {\n",
       "        vertical-align: middle;\n",
       "    }\n",
       "\n",
       "    .dataframe tbody tr th {\n",
       "        vertical-align: top;\n",
       "    }\n",
       "\n",
       "    .dataframe thead th {\n",
       "        text-align: right;\n",
       "    }\n",
       "</style>\n",
       "<table border=\"1\" class=\"dataframe\">\n",
       "  <thead>\n",
       "    <tr style=\"text-align: right;\">\n",
       "      <th></th>\n",
       "      <th>cohort</th>\n",
       "      <th>retention_rate</th>\n",
       "    </tr>\n",
       "  </thead>\n",
       "  <tbody>\n",
       "    <tr>\n",
       "      <th>0</th>\n",
       "      <td>0</td>\n",
       "      <td>100.0000</td>\n",
       "    </tr>\n",
       "    <tr>\n",
       "      <th>1</th>\n",
       "      <td>1</td>\n",
       "      <td>2.0071</td>\n",
       "    </tr>\n",
       "    <tr>\n",
       "      <th>2</th>\n",
       "      <td>2</td>\n",
       "      <td>4.0997</td>\n",
       "    </tr>\n",
       "    <tr>\n",
       "      <th>3</th>\n",
       "      <td>3</td>\n",
       "      <td>4.6338</td>\n",
       "    </tr>\n",
       "    <tr>\n",
       "      <th>4</th>\n",
       "      <td>4</td>\n",
       "      <td>5.2258</td>\n",
       "    </tr>\n",
       "    <tr>\n",
       "      <th>5</th>\n",
       "      <td>5</td>\n",
       "      <td>5.9863</td>\n",
       "    </tr>\n",
       "    <tr>\n",
       "      <th>6</th>\n",
       "      <td>6</td>\n",
       "      <td>6.8194</td>\n",
       "    </tr>\n",
       "    <tr>\n",
       "      <th>7</th>\n",
       "      <td>7</td>\n",
       "      <td>5.8140</td>\n",
       "    </tr>\n",
       "    <tr>\n",
       "      <th>8</th>\n",
       "      <td>8</td>\n",
       "      <td>4.7335</td>\n",
       "    </tr>\n",
       "    <tr>\n",
       "      <th>9</th>\n",
       "      <td>9</td>\n",
       "      <td>5.0222</td>\n",
       "    </tr>\n",
       "  </tbody>\n",
       "</table>\n",
       "</div>"
      ],
      "text/plain": [
       "   cohort  retention_rate\n",
       "0       0        100.0000\n",
       "1       1          2.0071\n",
       "2       2          4.0997\n",
       "3       3          4.6338\n",
       "4       4          5.2258\n",
       "5       5          5.9863\n",
       "6       6          6.8194\n",
       "7       7          5.8140\n",
       "8       8          4.7335\n",
       "9       9          5.0222"
      ]
     },
     "execution_count": 7,
     "metadata": {},
     "output_type": "execute_result"
    }
   ],
   "source": [
    "retention_df.head(10)"
   ]
  },
  {
   "cell_type": "markdown",
   "metadata": {},
   "source": [
    "---"
   ]
  },
  {
   "cell_type": "markdown",
   "metadata": {},
   "source": [
    "#### *Задание 2*\n",
    "Имеются результаты A/B теста, в котором двум группам пользователей предлагались различные наборы акционных предложений. Известно, что ARPU в тестовой группе выше на 5%, чем в контрольной. При этом в контрольной группе 1928 игроков из 202103 оказались платящими, а в тестовой – 1805 из 202667.\n",
    "\n",
    "Какой набор предложений можно считать лучшим? Какие метрики стоит проанализировать для принятия правильного решения и как?"
   ]
  },
  {
   "cell_type": "markdown",
   "metadata": {},
   "source": [
    "* *Пункт 1 (Предобработка)*\n",
    "\n",
    "Для начала посмотрим на наши данные "
   ]
  },
  {
   "cell_type": "code",
   "execution_count": 8,
   "metadata": {},
   "outputs": [],
   "source": [
    "ab_df = pd.read_csv('AB_data.csv', sep=';')"
   ]
  },
  {
   "cell_type": "code",
   "execution_count": 9,
   "metadata": {},
   "outputs": [
    {
     "data": {
      "text/html": [
       "<div>\n",
       "<style scoped>\n",
       "    .dataframe tbody tr th:only-of-type {\n",
       "        vertical-align: middle;\n",
       "    }\n",
       "\n",
       "    .dataframe tbody tr th {\n",
       "        vertical-align: top;\n",
       "    }\n",
       "\n",
       "    .dataframe thead th {\n",
       "        text-align: right;\n",
       "    }\n",
       "</style>\n",
       "<table border=\"1\" class=\"dataframe\">\n",
       "  <thead>\n",
       "    <tr style=\"text-align: right;\">\n",
       "      <th></th>\n",
       "      <th>user_id</th>\n",
       "      <th>revenue</th>\n",
       "      <th>testgroup</th>\n",
       "    </tr>\n",
       "  </thead>\n",
       "  <tbody>\n",
       "    <tr>\n",
       "      <th>0</th>\n",
       "      <td>1</td>\n",
       "      <td>0</td>\n",
       "      <td>b</td>\n",
       "    </tr>\n",
       "    <tr>\n",
       "      <th>1</th>\n",
       "      <td>2</td>\n",
       "      <td>0</td>\n",
       "      <td>a</td>\n",
       "    </tr>\n",
       "    <tr>\n",
       "      <th>2</th>\n",
       "      <td>3</td>\n",
       "      <td>0</td>\n",
       "      <td>a</td>\n",
       "    </tr>\n",
       "    <tr>\n",
       "      <th>3</th>\n",
       "      <td>4</td>\n",
       "      <td>0</td>\n",
       "      <td>b</td>\n",
       "    </tr>\n",
       "    <tr>\n",
       "      <th>4</th>\n",
       "      <td>5</td>\n",
       "      <td>0</td>\n",
       "      <td>b</td>\n",
       "    </tr>\n",
       "  </tbody>\n",
       "</table>\n",
       "</div>"
      ],
      "text/plain": [
       "   user_id  revenue testgroup\n",
       "0        1        0         b\n",
       "1        2        0         a\n",
       "2        3        0         a\n",
       "3        4        0         b\n",
       "4        5        0         b"
      ]
     },
     "execution_count": 9,
     "metadata": {},
     "output_type": "execute_result"
    }
   ],
   "source": [
    "ab_df.head()"
   ]
  },
  {
   "cell_type": "code",
   "execution_count": 10,
   "metadata": {},
   "outputs": [
    {
     "name": "stdout",
     "output_type": "stream",
     "text": [
      "<class 'pandas.core.frame.DataFrame'>\n",
      "RangeIndex: 404770 entries, 0 to 404769\n",
      "Data columns (total 3 columns):\n",
      " #   Column     Non-Null Count   Dtype \n",
      "---  ------     --------------   ----- \n",
      " 0   user_id    404770 non-null  int64 \n",
      " 1   revenue    404770 non-null  int64 \n",
      " 2   testgroup  404770 non-null  object\n",
      "dtypes: int64(2), object(1)\n",
      "memory usage: 9.3+ MB\n"
     ]
    }
   ],
   "source": [
    "ab_df.info()"
   ]
  },
  {
   "cell_type": "code",
   "execution_count": 11,
   "metadata": {},
   "outputs": [],
   "source": [
    "# Добавим столбец is_client\n",
    "\n",
    "ab_df['is_client'] = ab_df.revenue > 0"
   ]
  },
  {
   "cell_type": "code",
   "execution_count": 12,
   "metadata": {},
   "outputs": [],
   "source": [
    "# Разделим таблицу на тестовую и контрольную группы\n",
    "\n",
    "test_df = ab_df.query('testgroup == \"b\"')\n",
    "control_df = ab_df.query('testgroup == \"a\"')"
   ]
  },
  {
   "cell_type": "code",
   "execution_count": 13,
   "metadata": {},
   "outputs": [
    {
     "name": "stdout",
     "output_type": "stream",
     "text": [
      "Численность тестовой группы: 202667\n",
      "Численность контрольной группы: 202103\n"
     ]
    }
   ],
   "source": [
    "# Убедимся, что правильно выбрали тестовую и контрольную группы\n",
    "\n",
    "print('Численность тестовой группы:', test_df.shape[0])\n",
    "print('Численность контрольной группы:', control_df.shape[0])"
   ]
  },
  {
   "cell_type": "markdown",
   "metadata": {},
   "source": [
    "---"
   ]
  },
  {
   "cell_type": "markdown",
   "metadata": {},
   "source": [
    "* *Пункт 2 (ARPU)*\n",
    "\n",
    "Посмотрим, как различается средний чек на пользователя по этим группам (ARPU)"
   ]
  },
  {
   "cell_type": "code",
   "execution_count": 14,
   "metadata": {},
   "outputs": [
    {
     "data": {
      "text/plain": [
       "<matplotlib.axes._subplots.AxesSubplot at 0x7f4de4473eb8>"
      ]
     },
     "execution_count": 14,
     "metadata": {},
     "output_type": "execute_result"
    },
    {
     "data": {
      "image/png": "[encoded data removed]",
      "text/plain": [
       "<Figure size 432x288 with 1 Axes>"
      ]
     },
     "metadata": {},
     "output_type": "display_data"
    }
   ],
   "source": [
    "test_df.revenue.hist()"
   ]
  },
  {
   "cell_type": "code",
   "execution_count": 15,
   "metadata": {},
   "outputs": [
    {
     "data": {
      "text/plain": [
       "<matplotlib.axes._subplots.AxesSubplot at 0x7f4ddffdceb8>"
      ]
     },
     "execution_count": 15,
     "metadata": {},
     "output_type": "execute_result"
    },
    {
     "data": {
      "image/png": "[encoded data removed]",
      "text/plain": [
       "<Figure size 432x288 with 1 Axes>"
      ]
     },
     "metadata": {},
     "output_type": "display_data"
    }
   ],
   "source": [
    "control_df.revenue.hist()"
   ]
  },
  {
   "cell_type": "code",
   "execution_count": 16,
   "metadata": {},
   "outputs": [
    {
     "data": {
      "text/plain": [
       "False    0.99046\n",
       "True     0.00954\n",
       "Name: is_client, dtype: float64"
      ]
     },
     "execution_count": 16,
     "metadata": {},
     "output_type": "execute_result"
    }
   ],
   "source": [
    "control_df.is_client.value_counts(normalize=True)"
   ]
  },
  {
   "cell_type": "code",
   "execution_count": 17,
   "metadata": {},
   "outputs": [
    {
     "data": {
      "text/plain": [
       "False    0.991094\n",
       "True     0.008906\n",
       "Name: is_client, dtype: float64"
      ]
     },
     "execution_count": 17,
     "metadata": {},
     "output_type": "execute_result"
    }
   ],
   "source": [
    "test_df.is_client.value_counts(normalize=True)"
   ]
  },
  {
   "cell_type": "markdown",
   "metadata": {},
   "source": [
    "Как видим - в обеих группах 99% пользователей являются неплатящими"
   ]
  },
  {
   "cell_type": "code",
   "execution_count": 18,
   "metadata": {},
   "outputs": [],
   "source": [
    "control_ARPU = control_df.revenue.mean()"
   ]
  },
  {
   "cell_type": "code",
   "execution_count": 19,
   "metadata": {},
   "outputs": [],
   "source": [
    "test_ARPU = test_df.revenue.mean()"
   ]
  },
  {
   "cell_type": "code",
   "execution_count": 20,
   "metadata": {},
   "outputs": [],
   "source": [
    "ARPU_diff = round((test_ARPU - control_ARPU) / control_ARPU * 100, 2)"
   ]
  },
  {
   "cell_type": "code",
   "execution_count": 21,
   "metadata": {},
   "outputs": [
    {
     "name": "stdout",
     "output_type": "stream",
     "text": [
      "ARPU в тестовой группе на 5.26% выше, чем в контрольной\n"
     ]
    }
   ],
   "source": [
    "print('ARPU в тестовой группе на {:.2f}% выше, чем в контрольной'\n",
    "      .format(ARPU_diff))"
   ]
  },
  {
   "cell_type": "markdown",
   "metadata": {},
   "source": [
    "Мы удостоверились, что разница в ARPU согласуется с условием задачи, теперь нужно проверить данную разницу на статистическую значимость"
   ]
  },
  {
   "cell_type": "code",
   "execution_count": 22,
   "metadata": {},
   "outputs": [
    {
     "name": "stdout",
     "output_type": "stream",
     "text": [
      "ShapiroResult(statistic=0.06614720821380615, pvalue=0.0)\n",
      "ShapiroResult(statistic=0.06715953350067139, pvalue=0.0)\n"
     ]
    }
   ],
   "source": [
    "# Визуально распределения не выглядят нормальными,\n",
    "# убедимся в этом с помощью теста Шапиро-Уилка\n",
    "\n",
    "print(stats.shapiro(control_df.revenue.sample(1000, random_state=17)))\n",
    "print(stats.shapiro(test_df.revenue.sample(1000, random_state=17)))"
   ]
  },
  {
   "cell_type": "markdown",
   "metadata": {},
   "source": [
    "Тест Шапиро-Уилка проверяет нулевую гипотезу о том, что выборка была взята из нормально распределенной генеральной совокупности.\n",
    "В нашем случае p-value < 0.05, соответственно мы с достаточной уверенностью можем сделать вывод о том, что распределения в наших группах не являются нормальными.\n",
    "\n",
    "Также нужно определиться с теми тестами, которыми мы будем оценивать различие ARPU:\n",
    "- <span style=\"color:orange\">t-test</span>: хоть у нас распределение доходов не является нормальным, но для данного теста скорее важны гомогенность дисперсий и нормальность распределения статистики (среднего в нашем случае)\n",
    "- <span style=\"color:orange\">Bootstrap</span>: тест для общего случая, также пригодится для проверки на нормальность распределения среднего дохода с пользователя\n",
    "- <span style=\"color:orange\">критерий Манна-Уитни</span>: не самый лучший случай для его использования, хоть в распределениях и наблюдаются сильные выбросы. Во-первых, мы не знаем природу этих выбросов, так что сильно штрафовать их ранжированием пока не выглядит самым адекватным вариантом. Во-вторых, мы имеем очень большое кол-во повторяющихся значений (нулей), что плохо влияет на подбор рангов для этого теста. И в-третьих, сами ранги, если в первых двух тестах мы сравниваем именно значения дохода, то здесь сравниваются присвоенные значениям ранги (по факту сравниваются распределения), что для бизнеса не совсем понятно."
   ]
  },
  {
   "cell_type": "markdown",
   "metadata": {},
   "source": [
    "---"
   ]
  },
  {
   "cell_type": "markdown",
   "metadata": {},
   "source": [
    "* *Пункт 2.1 (t-test)*"
   ]
  },
  {
   "cell_type": "code",
   "execution_count": 23,
   "metadata": {},
   "outputs": [
    {
     "data": {
      "text/plain": [
       "LeveneResult(statistic=1.57736044973474, pvalue=0.2091420343022563)"
      ]
     },
     "execution_count": 23,
     "metadata": {},
     "output_type": "execute_result"
    }
   ],
   "source": [
    "# Проверим наши распределения на гомогенность дисперсий\n",
    "\n",
    "stats.levene(test_df.revenue, control_df.revenue, center='mean')"
   ]
  },
  {
   "cell_type": "markdown",
   "metadata": {},
   "source": [
    "p-value > 0.05, значит у нас нет достаточных оснований отклонить нулевую гипотезу о гомогенности дисперсий"
   ]
  },
  {
   "cell_type": "code",
   "execution_count": 24,
   "metadata": {},
   "outputs": [],
   "source": [
    "def check_mean(data, sample_len=5000):\n",
    "    sample_means = []\n",
    "    for _ in range(10000):\n",
    "        sample_data = data.sample(sample_len, replace=True).values\n",
    "        sample_means.append(sample_data.mean())\n",
    "    plt.hist(sample_means, bins=50)\n",
    "    plt.show()\n",
    "    return stats.shapiro(\n",
    "        pd.Series(sample_means).to_frame().sample(1000, random_state=17)\n",
    "    )"
   ]
  },
  {
   "cell_type": "code",
   "execution_count": 25,
   "metadata": {
    "scrolled": true
   },
   "outputs": [
    {
     "data": {
      "image/png": "[encoded data removed]",
      "text/plain": [
       "<Figure size 432x288 with 1 Axes>"
      ]
     },
     "metadata": {},
     "output_type": "display_data"
    },
    {
     "data": {
      "text/plain": [
       "ShapiroResult(statistic=0.9942191243171692, pvalue=0.0006787715246900916)"
      ]
     },
     "execution_count": 25,
     "metadata": {},
     "output_type": "execute_result"
    }
   ],
   "source": [
    "check_mean(test_df.revenue)"
   ]
  },
  {
   "cell_type": "code",
   "execution_count": 26,
   "metadata": {},
   "outputs": [
    {
     "data": {
      "image/png": "[encoded data removed]",
      "text/plain": [
       "<Figure size 432x288 with 1 Axes>"
      ]
     },
     "metadata": {},
     "output_type": "display_data"
    },
    {
     "data": {
      "text/plain": [
       "ShapiroResult(statistic=0.9593064188957214, pvalue=4.629821738594514e-16)"
      ]
     },
     "execution_count": 26,
     "metadata": {},
     "output_type": "execute_result"
    }
   ],
   "source": [
    "check_mean(control_df.revenue)"
   ]
  },
  {
   "cell_type": "markdown",
   "metadata": {},
   "source": [
    "Как видно из анализа - распределение среднего в контрольной группе не является нормальным (тестовая группа так же не проходит порог в 0.05 в некоторых испытаниях), соответственно проводить t-test в этом случае будет некорректным решением"
   ]
  },
  {
   "cell_type": "markdown",
   "metadata": {},
   "source": [
    "---"
   ]
  },
  {
   "cell_type": "markdown",
   "metadata": {},
   "source": [
    "* *Пункт 2.2 (Bootstrap)*"
   ]
  },
  {
   "cell_type": "code",
   "execution_count": 27,
   "metadata": {},
   "outputs": [],
   "source": [
    "def get_bootstrap(\n",
    "    data_column_1,\n",
    "    data_column_2,\n",
    "    boot_it=10000,\n",
    "    statistic=np.mean,\n",
    "    bootstrap_conf_level=0.95,\n",
    "    sample_len=5000\n",
    "):\n",
    "    boot_data = []\n",
    "    for _ in range(boot_it):\n",
    "        samples_1 = data_column_1.sample(\n",
    "            sample_len,\n",
    "            replace=True\n",
    "        ).values\n",
    "\n",
    "        samples_2 = data_column_2.sample(\n",
    "            sample_len,\n",
    "            replace=True\n",
    "        ).values\n",
    "\n",
    "        boot_data.append(statistic(samples_1) - statistic(samples_2))\n",
    "\n",
    "    pd_boot_data = pd.DataFrame(boot_data)\n",
    "\n",
    "    left_quant = (1 - bootstrap_conf_level) / 2\n",
    "    right_quant = 1 - (1 - bootstrap_conf_level) / 2\n",
    "    quants = pd_boot_data.quantile([left_quant, right_quant])\n",
    "\n",
    "    p_1 = stats.norm.cdf(\n",
    "        x=0,\n",
    "        loc=np.mean(boot_data),\n",
    "        scale=np.std(boot_data)\n",
    "    )\n",
    "    p_2 = stats.norm.cdf(\n",
    "        x=0,\n",
    "        loc=-np.mean(boot_data),\n",
    "        scale=np.std(boot_data)\n",
    "    )\n",
    "    p_value = min(p_1, p_2) * 2\n",
    "\n",
    "    # Визуализация\n",
    "    _, _, bars = plt.hist(pd_boot_data[0], bins=50)\n",
    "    for bar in bars:\n",
    "        bar.set_facecolor('grey')\n",
    "        bar.set_edgecolor('black')\n",
    "\n",
    "    plt.vlines(quants, ymin=0, ymax=150, linestyle='--')\n",
    "    plt.xlabel('boot_data')\n",
    "    plt.ylabel('frequency')\n",
    "    plt.title(\"Histogram of boot_data\")\n",
    "    plt.show()\n",
    "\n",
    "    return {\"boot_data\": boot_data,\n",
    "            \"quants\": quants,\n",
    "            \"p_value\": p_value}"
   ]
  },
  {
   "cell_type": "code",
   "execution_count": 28,
   "metadata": {},
   "outputs": [
    {
     "data": {
      "image/png": "[encoded data removed]",
      "text/plain": [
       "<Figure size 432x288 with 1 Axes>"
      ]
     },
     "metadata": {},
     "output_type": "display_data"
    }
   ],
   "source": [
    "booted_data = get_bootstrap(test_df.revenue, control_df.revenue)"
   ]
  },
  {
   "cell_type": "code",
   "execution_count": 29,
   "metadata": {},
   "outputs": [
    {
     "data": {
      "text/plain": [
       "0.9238502133359051"
      ]
     },
     "execution_count": 29,
     "metadata": {},
     "output_type": "execute_result"
    }
   ],
   "source": [
    "booted_data['p_value']"
   ]
  },
  {
   "cell_type": "markdown",
   "metadata": {},
   "source": [
    "**Bootstrap показал, что мы с большой долей уверенности можем заявлять о том, что изменение ARPU было случайным.**"
   ]
  },
  {
   "cell_type": "markdown",
   "metadata": {},
   "source": [
    "---"
   ]
  },
  {
   "cell_type": "markdown",
   "metadata": {},
   "source": [
    "* *Пункт 3 (ARPPU)*"
   ]
  },
  {
   "cell_type": "code",
   "execution_count": 30,
   "metadata": {},
   "outputs": [],
   "source": [
    "# Создадим таблицы для платящих пользователей\n",
    "\n",
    "test_payed_df = test_df.query('revenue > 0')\n",
    "control_payed_df = control_df.query('revenue > 0')"
   ]
  },
  {
   "cell_type": "code",
   "execution_count": 31,
   "metadata": {},
   "outputs": [],
   "source": [
    "test_ARPPU = test_payed_df.revenue.mean()"
   ]
  },
  {
   "cell_type": "code",
   "execution_count": 32,
   "metadata": {},
   "outputs": [],
   "source": [
    "control_ARPPU = control_payed_df.revenue.mean()"
   ]
  },
  {
   "cell_type": "code",
   "execution_count": 33,
   "metadata": {},
   "outputs": [],
   "source": [
    "ARPPU_diff = round((test_ARPPU - control_ARPPU) / control_ARPPU * 100, 2)"
   ]
  },
  {
   "cell_type": "code",
   "execution_count": 34,
   "metadata": {},
   "outputs": [
    {
     "name": "stdout",
     "output_type": "stream",
     "text": [
      "ARPPU в тестовой группе на 12.75% выше, чем в контрольной\n"
     ]
    }
   ],
   "source": [
    "print('ARPPU в тестовой группе на {:.2f}% выше, чем в контрольной'\n",
    "      .format(ARPPU_diff))"
   ]
  },
  {
   "cell_type": "code",
   "execution_count": 35,
   "metadata": {},
   "outputs": [
    {
     "data": {
      "text/plain": [
       "<matplotlib.axes._subplots.AxesSubplot at 0x7f4ddfbd8e10>"
      ]
     },
     "execution_count": 35,
     "metadata": {},
     "output_type": "execute_result"
    },
    {
     "data": {
      "image/png": "[encoded data removed]",
      "text/plain": [
       "<Figure size 432x288 with 1 Axes>"
      ]
     },
     "metadata": {},
     "output_type": "display_data"
    }
   ],
   "source": [
    "test_payed_df.revenue.hist()"
   ]
  },
  {
   "cell_type": "code",
   "execution_count": 36,
   "metadata": {},
   "outputs": [
    {
     "data": {
      "text/plain": [
       "<matplotlib.axes._subplots.AxesSubplot at 0x7f4ddfc269e8>"
      ]
     },
     "execution_count": 36,
     "metadata": {},
     "output_type": "execute_result"
    },
    {
     "data": {
      "image/png": "[encoded data removed]",
      "text/plain": [
       "<Figure size 432x288 with 1 Axes>"
      ]
     },
     "metadata": {},
     "output_type": "display_data"
    }
   ],
   "source": [
    "control_payed_df.revenue.hist()"
   ]
  },
  {
   "cell_type": "markdown",
   "metadata": {},
   "source": [
    "Как видно из графиков, распределение для тестовой группы выглядит равномерным, в то время как у контрольной наблюдаются большие выбросы.\n",
    "Но для математического док-ва применим тесты Шапиро-Уилка к ним."
   ]
  },
  {
   "cell_type": "code",
   "execution_count": 37,
   "metadata": {},
   "outputs": [
    {
     "name": "stdout",
     "output_type": "stream",
     "text": [
      "ShapiroResult(statistic=0.26476240158081055, pvalue=0.0)\n",
      "ShapiroResult(statistic=0.9613320827484131, pvalue=1.2885095898576755e-15)\n"
     ]
    }
   ],
   "source": [
    "print(stats.shapiro(control_payed_df.revenue.sample(1000, random_state=17)))\n",
    "print(stats.shapiro(test_payed_df.revenue.sample(1000, random_state=17)))"
   ]
  },
  {
   "cell_type": "markdown",
   "metadata": {},
   "source": [
    "---"
   ]
  },
  {
   "cell_type": "markdown",
   "metadata": {},
   "source": [
    "* *Пункт 3.1 (t-test)*\n",
    "\n",
    "Также посмотрим на распределение среднего для этих метрик."
   ]
  },
  {
   "cell_type": "code",
   "execution_count": 38,
   "metadata": {},
   "outputs": [
    {
     "data": {
      "image/png": "[encoded data removed]",
      "text/plain": [
       "<Figure size 432x288 with 1 Axes>"
      ]
     },
     "metadata": {},
     "output_type": "display_data"
    },
    {
     "data": {
      "text/plain": [
       "ShapiroResult(statistic=0.998997151851654, pvalue=0.8716865181922913)"
      ]
     },
     "execution_count": 38,
     "metadata": {},
     "output_type": "execute_result"
    }
   ],
   "source": [
    "check_mean(test_payed_df.revenue, sample_len=len(test_payed_df.revenue))"
   ]
  },
  {
   "cell_type": "code",
   "execution_count": 39,
   "metadata": {},
   "outputs": [
    {
     "data": {
      "image/png": "[encoded data removed]",
      "text/plain": [
       "<Figure size 432x288 with 1 Axes>"
      ]
     },
     "metadata": {},
     "output_type": "display_data"
    },
    {
     "data": {
      "text/plain": [
       "ShapiroResult(statistic=0.9979606866836548, pvalue=0.26656848192214966)"
      ]
     },
     "execution_count": 39,
     "metadata": {},
     "output_type": "execute_result"
    }
   ],
   "source": [
    "check_mean(control_payed_df.revenue, sample_len=len(control_payed_df.revenue))"
   ]
  },
  {
   "cell_type": "code",
   "execution_count": 40,
   "metadata": {},
   "outputs": [
    {
     "data": {
      "text/plain": [
       "LeveneResult(statistic=445.9869447066088, pvalue=1.3202514573715939e-93)"
      ]
     },
     "execution_count": 40,
     "metadata": {},
     "output_type": "execute_result"
    }
   ],
   "source": [
    "stats.levene(test_payed_df.revenue, control_payed_df.revenue, center='mean')"
   ]
  },
  {
   "cell_type": "markdown",
   "metadata": {},
   "source": [
    "Распределение средних в обеих группах прошло тест на нормальность, но не выполняется условие о гомогенности дисперсий, соответственно применять t-test и в этом случае будет некорректно"
   ]
  },
  {
   "cell_type": "markdown",
   "metadata": {},
   "source": [
    "---"
   ]
  },
  {
   "cell_type": "markdown",
   "metadata": {},
   "source": [
    "* *Пункт 3.2 (Bootstrap)*"
   ]
  },
  {
   "cell_type": "code",
   "execution_count": 41,
   "metadata": {},
   "outputs": [
    {
     "data": {
      "image/png": "[encoded data removed]",
      "text/plain": [
       "<Figure size 432x288 with 1 Axes>"
      ]
     },
     "metadata": {},
     "output_type": "display_data"
    }
   ],
   "source": [
    "booted_data = get_bootstrap(test_payed_df.revenue,\n",
    "                            control_payed_df.revenue,\n",
    "                            sample_len=max(len(test_payed_df.revenue),\n",
    "                                           len(control_payed_df.revenue))\n",
    "                            )"
   ]
  },
  {
   "cell_type": "code",
   "execution_count": 42,
   "metadata": {},
   "outputs": [
    {
     "data": {
      "text/plain": [
       "0.09482513227919497"
      ]
     },
     "execution_count": 42,
     "metadata": {},
     "output_type": "execute_result"
    }
   ],
   "source": [
    "booted_data['p_value']"
   ]
  },
  {
   "cell_type": "markdown",
   "metadata": {},
   "source": [
    "**Данный метод показал, что мы не можем считать разницу в ARPPU между группами стат. значимой.**"
   ]
  },
  {
   "cell_type": "markdown",
   "metadata": {},
   "source": [
    "---"
   ]
  },
  {
   "cell_type": "markdown",
   "metadata": {},
   "source": [
    "* *Пункт 4 (Конверсия)*"
   ]
  },
  {
   "cell_type": "code",
   "execution_count": 43,
   "metadata": {},
   "outputs": [
    {
     "data": {
      "text/html": [
       "<div>\n",
       "<style scoped>\n",
       "    .dataframe tbody tr th:only-of-type {\n",
       "        vertical-align: middle;\n",
       "    }\n",
       "\n",
       "    .dataframe tbody tr th {\n",
       "        vertical-align: top;\n",
       "    }\n",
       "\n",
       "    .dataframe thead th {\n",
       "        text-align: right;\n",
       "    }\n",
       "</style>\n",
       "<table border=\"1\" class=\"dataframe\">\n",
       "  <thead>\n",
       "    <tr style=\"text-align: right;\">\n",
       "      <th>testgroup</th>\n",
       "      <th>a</th>\n",
       "      <th>b</th>\n",
       "    </tr>\n",
       "    <tr>\n",
       "      <th>is_client</th>\n",
       "      <th></th>\n",
       "      <th></th>\n",
       "    </tr>\n",
       "  </thead>\n",
       "  <tbody>\n",
       "    <tr>\n",
       "      <th>False</th>\n",
       "      <td>200175</td>\n",
       "      <td>200862</td>\n",
       "    </tr>\n",
       "    <tr>\n",
       "      <th>True</th>\n",
       "      <td>1928</td>\n",
       "      <td>1805</td>\n",
       "    </tr>\n",
       "  </tbody>\n",
       "</table>\n",
       "</div>"
      ],
      "text/plain": [
       "testgroup       a       b\n",
       "is_client                \n",
       "False      200175  200862\n",
       "True         1928    1805"
      ]
     },
     "execution_count": 43,
     "metadata": {},
     "output_type": "execute_result"
    }
   ],
   "source": [
    "pd.crosstab(ab_df.is_client, ab_df.testgroup)"
   ]
  },
  {
   "cell_type": "code",
   "execution_count": 44,
   "metadata": {},
   "outputs": [
    {
     "data": {
      "text/plain": [
       "0.89"
      ]
     },
     "execution_count": 44,
     "metadata": {},
     "output_type": "execute_result"
    }
   ],
   "source": [
    "# Конверсия тестовой группы\n",
    "\n",
    "round(len(test_payed_df.revenue) / len(test_df.revenue) * 100, 2)"
   ]
  },
  {
   "cell_type": "code",
   "execution_count": 45,
   "metadata": {},
   "outputs": [
    {
     "data": {
      "text/plain": [
       "0.95"
      ]
     },
     "execution_count": 45,
     "metadata": {},
     "output_type": "execute_result"
    }
   ],
   "source": [
    "# Конверсия контрольной группы\n",
    "\n",
    "round(len(control_payed_df.revenue) / len(control_df.revenue) * 100, 2)"
   ]
  },
  {
   "cell_type": "markdown",
   "metadata": {},
   "source": [
    "Конверсия контрольной группы больше тестовой на 0.06 процентных пункта. Посмотрим на статистическю значимость этой разницы. Так как переменная категориальная, то применим хи-квадрат."
   ]
  },
  {
   "cell_type": "code",
   "execution_count": 46,
   "metadata": {},
   "outputs": [
    {
     "data": {
      "text/plain": [
       "0.03647561892312613"
      ]
     },
     "execution_count": 46,
     "metadata": {},
     "output_type": "execute_result"
    }
   ],
   "source": [
    "stats.chi2_contingency(pd.crosstab(ab_df.is_client, ab_df.testgroup))[1]"
   ]
  },
  {
   "cell_type": "markdown",
   "metadata": {},
   "source": [
    "**Можно утверждать, что показатели конверсии в контрольной группе значимо отличаются от тестовой**"
   ]
  },
  {
   "cell_type": "markdown",
   "metadata": {},
   "source": [
    "---"
   ]
  },
  {
   "cell_type": "markdown",
   "metadata": {},
   "source": [
    "* *Пункт 5 (Итоги)*\n",
    "\n",
    "1) ARPU и ARPPU в тестовой группе выше, но эту разницу не удалось статистически подтвердить\n",
    "2) Конверсия значительно выше в контрольной группе\n",
    "\n",
    "Вывод: на данный момент у нас нет достаточной уверенности, чтобы выкатывать новые акционные предложения. Также необходимо проверить выбросы в контрольной группе на исторических данных и в случае аномалии внести изменения в систему сплитования для повторного тестирования."
   ]
  },
  {
   "cell_type": "markdown",
   "metadata": {},
   "source": [
    "#### *Задание 3*\n",
    "\n",
    "В игре Plants & Gardens каждый месяц проводятся тематические события, ограниченные по времени. В них игроки могут получить уникальные предметы для сада и персонажей, дополнительные монеты или бонусы. Для получения награды требуется пройти ряд уровней за определенное время. С помощью каких метрик можно оценить результаты последнего прошедшего события?\n",
    "\n",
    "Предположим, в другом событии мы усложнили механику событий так, что при каждой неудачной попытке выполнения уровня игрок будет откатываться на несколько уровней назад. Изменится ли набор метрик оценки результата? Если да, то как?"
   ]
  },
  {
   "cell_type": "markdown",
   "metadata": {},
   "source": [
    "1:\n",
    "\n",
    "- Конверсия в покупку / просмотр рекламы / повторную покупку: так мы сможем отследить вовлеченность пользователей (кол-во первых покупок, увеличение покупок уже платящих пользователей)\n",
    "- ARPU, ARPPU: для оценки финансовой успешности\n",
    "- Онлайн / retention rate: сможем оценить популярность ивента\n",
    "- В качестве обобщающей метрики для двух верхних пунктов можно использовать LTV \n",
    "\n",
    "Данные метрики можно использовать для сравнения как с общей активностью, так и для сравнения с активностью предыдущего ивента.\n",
    "\n",
    "2:\n",
    "\n",
    "Все метрики, которые были использованы выше останутся, но добавятся некоторые, с помощью которых можно будет дополнительно оценить популярность данного ивента для пользоваталей по сравнению со стандартными условиями.\n",
    "\n",
    "- Churn rate: оценить, как часто пользователи выходят после неудачной попытки прохождения\n",
    "- Конверсия по уровням: из этого можно узнать, какие уровни слишком сложны для пользователей"
   ]
  }
 ],
 "metadata": {
  "kernelspec": {
   "display_name": "Python 3",
   "language": "python",
   "name": "python3"
  },
  "language_info": {
   "codemirror_mode": {
    "name": "ipython",
    "version": 3
   },
   "file_extension": ".py",
   "mimetype": "text/x-python",
   "name": "python",
   "nbconvert_exporter": "python",
   "pygments_lexer": "ipython3",
   "version": "3.7.3"
  },
  "vscode": {
   "interpreter": {
    "hash": "5a63d721e054409c9569a562c941c404c3d6e3d0a4cb43b8a8186f14a1242964"
   }
  }
 },
 "nbformat": 4,
 "nbformat_minor": 2
}
